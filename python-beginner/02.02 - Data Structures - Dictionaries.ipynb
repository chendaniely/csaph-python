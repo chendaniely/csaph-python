{
 "metadata": {
  "name": ""
 },
 "nbformat": 3,
 "nbformat_minor": 0,
 "worksheets": [
  {
   "cells": [
    {
     "cell_type": "markdown",
     "metadata": {},
     "source": [
      "# Dictionaries\n",
      "\n",
      "Think of dictionaries like those giant fat books that you don't use anymore\n",
      "\n",
      "there is a **key** (the word you want to look up)  \n",
      "and a **value** (the definition of the word, key)\n",
      "\n",
      "this key-value pair is what makes a dictionary\n",
      "\n",
      "## features of dictionaries: \n",
      "### Keys\n",
      "- Immutable\n",
      "- unique\n",
      "- not stored an any particular order\n",
      "\n",
      "### Values\n",
      "- there are no restrictions\n",
      "    - values do not have to be unique or immutable"
     ]
    },
    {
     "cell_type": "code",
     "collapsed": false,
     "input": [
      "# start with an empty dictionary, notice dictionaries are enclosed in squiggly brackets\n",
      "derp = {}\n",
      "\n",
      "key = \"daniel chen\"\n",
      "value = 25\n",
      "\n",
      "# you fill dictionaries, just like lists\n",
      "\n",
      "derp = {key:value, \"niels bantilan\": 25}\n",
      "print derp\n",
      "\n",
      "# note dictionaries are not ordered, DO NOT assume any order when working with dictionaries"
     ],
     "language": "python",
     "metadata": {},
     "outputs": []
    },
    {
     "cell_type": "markdown",
     "metadata": {},
     "source": [
      "So we have an initial dictionary with stuff, how do we 'append' things to it and add more values?"
     ]
    },
    {
     "cell_type": "code",
     "collapsed": false,
     "input": [
      "derp[\"my_new_key\"] = \"my_new_value\"\n",
      "print derp"
     ],
     "language": "python",
     "metadata": {},
     "outputs": []
    },
    {
     "cell_type": "code",
     "collapsed": false,
     "input": [
      "derp[\"Vivian Peng\"] = 25\n",
      "print derp"
     ],
     "language": "python",
     "metadata": {},
     "outputs": []
    },
    {
     "cell_type": "code",
     "collapsed": false,
     "input": [
      "# remove entry from dictionary\n",
      "del derp[\"my_new_key\"]\n",
      "print derp"
     ],
     "language": "python",
     "metadata": {},
     "outputs": []
    },
    {
     "cell_type": "code",
     "collapsed": false,
     "input": [
      "# assigning a new value to a key that already exists will overwrite the original value\n",
      "derp[\"daniel chen\"] = 21\n",
      "print derp"
     ],
     "language": "python",
     "metadata": {},
     "outputs": []
    },
    {
     "cell_type": "markdown",
     "metadata": {},
     "source": [
      "Now that we have a dictionary, how do we 'look' keys up?"
     ]
    },
    {
     "cell_type": "code",
     "collapsed": false,
     "input": [
      "# let's look up how old I am\n",
      "print derp[\"daniel chen\"]"
     ],
     "language": "python",
     "metadata": {},
     "outputs": []
    },
    {
     "cell_type": "code",
     "collapsed": false,
     "input": [
      "# there's another way\n",
      "print derp.get(\"daniel chen\")"
     ],
     "language": "python",
     "metadata": {},
     "outputs": []
    },
    {
     "cell_type": "markdown",
     "metadata": {},
     "source": [
      "same answer, but lets look at the results if we look for something that does not exist"
     ]
    },
    {
     "cell_type": "code",
     "collapsed": false,
     "input": [
      "print derp[\"monty python\"]"
     ],
     "language": "python",
     "metadata": {},
     "outputs": []
    },
    {
     "cell_type": "code",
     "collapsed": false,
     "input": [
      "print derp.get(\"monty python\")"
     ],
     "language": "python",
     "metadata": {},
     "outputs": []
    },
    {
     "cell_type": "markdown",
     "metadata": {},
     "source": [
      "we can also use the 'in' operator to check if something exists in our dictionary"
     ]
    },
    {
     "cell_type": "code",
     "collapsed": false,
     "input": [
      "'monty python' in derp"
     ],
     "language": "python",
     "metadata": {},
     "outputs": []
    },
    {
     "cell_type": "code",
     "collapsed": false,
     "input": [
      "'daniel chen' in derp"
     ],
     "language": "python",
     "metadata": {},
     "outputs": []
    },
    {
     "cell_type": "markdown",
     "metadata": {},
     "source": [
      "More dictionary stuff"
     ]
    },
    {
     "cell_type": "code",
     "collapsed": false,
     "input": [
      "# get all keys\n",
      "print derp.keys()"
     ],
     "language": "python",
     "metadata": {},
     "outputs": []
    },
    {
     "cell_type": "code",
     "collapsed": false,
     "input": [
      "#get all values\n",
      "print derp.values()"
     ],
     "language": "python",
     "metadata": {},
     "outputs": []
    },
    {
     "cell_type": "code",
     "collapsed": false,
     "input": [
      "# get the length (number of key:value entries)\n",
      "print len(derp)"
     ],
     "language": "python",
     "metadata": {},
     "outputs": []
    },
    {
     "cell_type": "code",
     "collapsed": false,
     "input": [
      "# check if a key exists in dictionary:\n",
      "print \"daniel chen\" in derp"
     ],
     "language": "python",
     "metadata": {},
     "outputs": []
    },
    {
     "cell_type": "markdown",
     "metadata": {},
     "source": [
      "Here's a useful command:\n",
      "\n",
      "if you ever get confused if your variable is a list, tuple, dictionary, int, float, whatever"
     ]
    },
    {
     "cell_type": "code",
     "collapsed": false,
     "input": [
      "type(derp) # is your best friend!"
     ],
     "language": "python",
     "metadata": {},
     "outputs": []
    },
    {
     "cell_type": "markdown",
     "metadata": {},
     "source": [
      "# Excercise\n",
      "\n",
      "## 1\n",
      "Try loading the following key:value pairs into a dictionary\n",
      "\n",
      "fname:\"fname\",  \n",
      "lname:\"lname\",  \n",
      "age:25,  \n",
      "height:69,  \n",
      "weight 180"
     ]
    },
    {
     "cell_type": "code",
     "collapsed": false,
     "input": [
      "my_dict = {}\n",
      "\n",
      "\n",
      "my_dict = {\"fname\":\"daniel\", \"lname\":\"daniel\"}\n",
      "\n",
      "\n",
      "fname = \"fname\"\n",
      "lname = \"lname\"\n",
      "my_dict = {fname:\"daniel\", lname:\"daniel\"}\n",
      "\n",
      "print my_dict"
     ],
     "language": "python",
     "metadata": {},
     "outputs": []
    },
    {
     "cell_type": "markdown",
     "metadata": {},
     "source": [
      "## 2\n",
      "\n",
      "Here's a difficult question: do not worry if you cannot figure this out.\n",
      "\n",
      "How would you put the fname, lname, age, height, and weight ALL into the same dictionary entry?"
     ]
    },
    {
     "cell_type": "code",
     "collapsed": false,
     "input": [
      "#using list\n",
      "hardQuestion = {1: [\"daniel\", \"chen\", 25, 69]}\n",
      "print hardQuestion\n",
      "\n",
      "print hardQuestion.get(1)[0]\n",
      "\n",
      "# using dictionary\n",
      "hardQuestion = {1: {\"fname\":\"daniel\", \"lname\":\"chen\", \"age\":25, \"height\":69}}\n",
      "print hardQuestion\n",
      "\n",
      "print hardQuestion.get(1).get(\"fname\")\n",
      "\n",
      "firstPerson =  hardQuestion.get(1)\n",
      "firstPerson\n",
      "type(firstPerson)\n",
      "\n",
      "print firstPerson.get(\"fname\")\n"
     ],
     "language": "python",
     "metadata": {},
     "outputs": []
    }
   ],
   "metadata": {}
  }
 ]
}