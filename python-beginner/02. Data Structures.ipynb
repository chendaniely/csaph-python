{
 "metadata": {
  "name": ""
 },
 "nbformat": 3,
 "nbformat_minor": 0,
 "worksheets": [
  {
   "cells": [
    {
     "cell_type": "markdown",
     "metadata": {},
     "source": [
      "# Lists\n",
      "\n",
      "lists are essentially a 'list' of anything you can think of\n",
      "\n",
      "probably one of the most basic, versitile, and useful data structure you can think of"
     ]
    },
        {
     "cell_type": "markdown",
     "metadata": {},
     "source": [
      "## Getting parts from a string\n",
      "\n",
      "Python is Zero (0) indexed, meaning that the first thing of something is in the 0 position (not 1)"
     ]
    },
    {
     "cell_type": "code",
     "collapsed": false,
     "input": [
      "string = \"Python is awesome!\"\n",
      "\n",
      "# get the first letter\n",
      "string[0]\n",
      "\n",
      "# get the second letter\n",
      "string[1]\n",
      "\n",
      "# get the first letter from the end\n",
      "string[-1]"
     ],
     "language": "python",
     "metadata": {},
     "outputs": []
    },
    {
     "cell_type": "markdown",
     "metadata": {},
     "source": [
      "## Slicing\n",
      "\n",
      "What about when you want just a certain part of a string?\n",
      "\n",
      "\n",
      "lets bulid off the census ID string we had earlier"
     ]
    },
    {
     "cell_type": "code",
     "collapsed": false,
     "input": [
      "# year 2014; CT 255; ID 1\n",
      "censusID = \"2014-255-001\"\n",
      "\n",
      "# what if we just want the year?\n",
      "# we can slice!\n",
      "censusID[0:4]\n",
      "\n",
      "# since it is from the beginning we can also do the following\n",
      "censusID[:4]\n",
      "\n",
      "# both results will return a STRING 2014"
     ],
     "language": "python",
     "metadata": {},
     "outputs": []
    },
    {
     "cell_type": "code",
     "collapsed": false,
     "input": [
      "censusID[5:8]\n",
      "\n",
      "censusID[9:]"
     ],
     "language": "python",
     "metadata": {},
     "outputs": []
    },
    {
     "cell_type": "markdown",
     "metadata": {},
     "source": [
      "# Excercise\n",
      "\n",
      "Introduce yourself to 1 neighbor, get their first and last name.\n",
      "\n",
      "- Assign the varriable x to equal \"My name is **your first and last name**\"\n",
      "- Assign the variable y to equal \"My neighbor's name is **your neighbor's first and last name**\"\n",
      "\n",
      "Write an inequality that extracts out the first names, and test to see whether or not they are equal"
     ]
    },
    {
     "cell_type": "code",
     "collapsed": false,
     "input": [
      "# create a list\n"
     ],
     "language": "python",
     "metadata": {},
     "outputs": []
    }
   ],
   "metadata": {}
  }
 ]
}