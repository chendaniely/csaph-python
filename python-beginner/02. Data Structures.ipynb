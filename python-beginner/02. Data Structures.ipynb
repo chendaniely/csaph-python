{
 "metadata": {
  "name": ""
 },
 "nbformat": 3,
 "nbformat_minor": 0,
 "worksheets": [
  {
   "cells": [
    {
     "cell_type": "markdown",
     "metadata": {},
     "source": [
      "# Data Structures\n",
      "\n",
      "Cool, now that I can do some basic math, and string manipulation, I want more!\n",
      "\n",
      "A data structure is some conatiner (structure) that holds information (data)"
     ]
    },
    {
     "cell_type": "markdown",
     "metadata": {},
     "source": [
      "# Lists\n",
      "\n",
      "lists are essentially a 'list' of anything you can think of\n",
      "\n",
      "probably one of the most basic, versitile, and useful data structure you can think of\n",
      "\n",
      "they just hold stuff in the order you give it"
     ]
    },
    {
     "cell_type": "code",
     "collapsed": false,
     "input": [
      "#  note, you can't use 'list' as a variable, it is a python protected phrase or 'reserved keyword'\n",
      "my_list = []\n",
      "my_int_list = [1, 3, 5, 7, 10, 11]\n",
      "\n",
      "print my_list\n",
      "print my_int_list"
     ],
     "language": "python",
     "metadata": {},
     "outputs": [
      {
       "output_type": "stream",
       "stream": "stdout",
       "text": [
        "[]\n",
        "[1, 3, 5, 7, 10, 11]\n"
       ]
      }
     ],
     "prompt_number": 1
    },
    {
     "cell_type": "markdown",
     "metadata": {},
     "source": [
      "Lists do not have to contain the same type"
     ]
    },
    {
     "cell_type": "code",
     "collapsed": false,
     "input": [
      "my_mixed_list = [True, \"i got\", 3 + 1, \"equals\", 4, \"goats for christmas\"]\n",
      "print my_mixed_list"
     ],
     "language": "python",
     "metadata": {},
     "outputs": [
      {
       "output_type": "stream",
       "stream": "stdout",
       "text": [
        "[True, 'i got', 4, 'equals', 4, 'goats for christmas']\n"
       ]
      }
     ],
     "prompt_number": 2
    },
    {
     "cell_type": "markdown",
     "metadata": {},
     "source": [
      "you can even store lists into variables!"
     ]
    },
    {
     "cell_type": "code",
     "collapsed": false,
     "input": [
      "my_mixed_list = [True, \"i got\", 3 + 1, \"equals\", 4, \"goats for christmas\"]\n",
      "print \"my_mixed_list = \", my_mixed_list\n",
      "\n",
      "x = my_mixed_list\n",
      "print \"x = \", x"
     ],
     "language": "python",
     "metadata": {},
     "outputs": [
      {
       "output_type": "stream",
       "stream": "stdout",
       "text": [
        "my_mixed_list =  [True, 'i got', 4, 'equals', 4, 'goats for christmas']\n",
        "x =  [True, 'i got', 4, 'equals', 4, 'goats for christmas']\n"
       ]
      }
     ],
     "prompt_number": 3
    },
    {
     "cell_type": "markdown",
     "metadata": {},
     "source": [
      "## It's all fun and games until you need to get something out of a list\n",
      "\n",
      "I have everything stored in a list!\n",
      "\n",
      "But I need something out of it, what good is a list if I can't get something out?"
     ]
    },
    {
     "cell_type": "code",
     "collapsed": false,
     "input": [
      "# consider this: I have a list of data:\n",
      "patient_data = [\"Daniel\", \"Chen\", 25, \"male\"]\n",
      "\n",
      "print patient_data"
     ],
     "language": "python",
     "metadata": {},
     "outputs": [
      {
       "output_type": "stream",
       "stream": "stdout",
       "text": [
        "['Daniel', 'Chen', 25, 'male']\n"
       ]
      }
     ],
     "prompt_number": 10
    },
    {
     "cell_type": "markdown",
     "metadata": {},
     "source": [
      "How would I, for example, get only the first name? or the age?\n",
      "\n",
      "First there are a few things to mention about indexing in python\n",
      "\n",
      "- it is zero indexed\n",
      "    - this means that the first item in in list is position 0 (not 1)"
     ]
    },
    {
     "cell_type": "markdown",
     "metadata": {},
     "source": [
      "| Index | 0      | 1    | 2  | 3    |\n",
      "|-------|--------|------|----|------|\n",
      "| Value | Daniel | Chen | 25 | male |"
     ]
    },
    {
     "cell_type": "code",
     "collapsed": false,
     "input": [
      "patient_data = [\"Daniel\", \"Chen\", 25, \"male\"]\n",
      "\n",
      "# extract my first name\n",
      "print \"fname = \", patient_data[0]"
     ],
     "language": "python",
     "metadata": {},
     "outputs": [
      {
       "output_type": "stream",
       "stream": "stdout",
       "text": [
        "fname =  Daniel\n"
       ]
      }
     ],
     "prompt_number": 13
    },
    {
     "cell_type": "code",
     "collapsed": false,
     "input": [
      "# extract the age\n",
      "patient_data[2]"
     ],
     "language": "python",
     "metadata": {},
     "outputs": [
      {
       "metadata": {},
       "output_type": "pyout",
       "prompt_number": 14,
       "text": [
        "25"
       ]
      }
     ],
     "prompt_number": 14
    },
    {
     "cell_type": "markdown",
     "metadata": {},
     "source": [
      "Lists are what we call an 'iterable', that is something that you can just go one-by-one through\n",
      "\n",
      "Remember strings? They are also iterables"
     ]
    },
    {
     "cell_type": "markdown",
     "metadata": {},
     "source": [
      "## Getting parts from a string"
     ]
    },
    {
     "cell_type": "code",
     "collapsed": false,
     "input": [
      "string = \"Coconut\"\n",
      "\n",
      "# get the first letter\n",
      "string[0]\n",
      "\n",
      "# get the second letter\n",
      "string[1]\n",
      "\n",
      "# get the first letter from the end\n",
      "string[-1]"
     ],
     "language": "python",
     "metadata": {},
     "outputs": [
      {
       "metadata": {},
       "output_type": "pyout",
       "prompt_number": 4,
       "text": [
        "'t'"
       ]
      }
     ],
     "prompt_number": 4
    },
    {
     "cell_type": "markdown",
     "metadata": {},
     "source": [
      "## Slicing\n",
      "\n",
      "What about when you want just a certain part of a string?\n",
      "\n",
      "lets bulid off the census ID string we had earlier"
     ]
    },
    {
     "cell_type": "code",
     "collapsed": false,
     "input": [
      "# year 2014; CT 255; ID 1\n",
      "censusID = \"2014-255-001\"\n",
      "\n",
      "# what if we just want the year?\n",
      "# we can slice!\n",
      "censusID[0:4]\n",
      "\n",
      "# since it is from the beginning we can also do the following\n",
      "censusID[:4]\n",
      "\n",
      "# both results will return a STRING 2014"
     ],
     "language": "python",
     "metadata": {},
     "outputs": [
      {
       "metadata": {},
       "output_type": "pyout",
       "prompt_number": 1,
       "text": [
        "'2014'"
       ]
      }
     ],
     "prompt_number": 1
    },
    {
     "cell_type": "code",
     "collapsed": false,
     "input": [
      "censusID[5:8]\n",
      "\n",
      "censusID[9:]"
     ],
     "language": "python",
     "metadata": {},
     "outputs": [
      {
       "metadata": {},
       "output_type": "pyout",
       "prompt_number": 2,
       "text": [
        "'001'"
       ]
      }
     ],
     "prompt_number": 2
    },
    {
     "cell_type": "markdown",
     "metadata": {},
     "source": [
      "# Exercises\n",
      "\n",
      "Introduce yourself to 1 neighbor, get their first and last name.\n",
      "\n",
      "- Assign the varriable x to equal \"My name is **your first and last name**\"\n",
      "- Assign the variable y to equal \"My neighbor's name is **your neighbor's first and last name**\"\n",
      "\n",
      "Write an inequality that extracts out the first names, and test to see whether or not they are equal"
     ]
    },
    {
     "cell_type": "code",
     "collapsed": false,
     "input": [
      "x = \"My name is Ben DeCoudres\"\n",
      "y = \"my neighbor's name is Michelle Hong\"\n",
      "\n",
      "print x[-13:-10] == y[-13:-5]\n",
      "\n",
      "'''\n",
      "print x[-13:-1]\n",
      "print y[-13:-5]\n",
      "'''\n"
     ],
     "language": "python",
     "metadata": {},
     "outputs": [
      {
       "output_type": "stream",
       "stream": "stdout",
       "text": [
        "False\n"
       ]
      },
      {
       "metadata": {},
       "output_type": "pyout",
       "prompt_number": 18,
       "text": [
        "'\\nprint x[-13:-1]\\nprint y[-13:-5]\\n'"
       ]
      }
     ],
     "prompt_number": 18
    },
    {
     "cell_type": "markdown",
     "metadata": {},
     "source": [
      "# More lists\n",
      "\n",
      "What else can you do with lists?"
     ]
    },
    {
     "cell_type": "code",
     "collapsed": false,
     "input": [
      "# some list\n",
      "\n",
      "lerp = [1, 3, 5, 7, 9, 22]\n",
      "\n",
      "# append\n",
      "lerp.append(4)\n",
      "print lerp"
     ],
     "language": "python",
     "metadata": {},
     "outputs": [
      {
       "output_type": "stream",
       "stream": "stdout",
       "text": [
        "[1, 3, 5, 7, 9, 22, 4]\n"
       ]
      }
     ],
     "prompt_number": 41
    },
    {
     "cell_type": "code",
     "collapsed": false,
     "input": [
      "# pop (get the last value, and also remove from list)\n",
      "print lerp.pop()\n",
      "print lerp"
     ],
     "language": "python",
     "metadata": {},
     "outputs": [
      {
       "output_type": "stream",
       "stream": "stdout",
       "text": [
        "4\n",
        "[1, 3, 5, 7, 9, 22]\n"
       ]
      }
     ],
     "prompt_number": 42
    },
    {
     "cell_type": "code",
     "collapsed": false,
     "input": [
      "# delete second entry\n",
      "del lerp[1]\n",
      "print lerp"
     ],
     "language": "python",
     "metadata": {},
     "outputs": [
      {
       "output_type": "stream",
       "stream": "stdout",
       "text": [
        "[1, 5, 7, 9, 22]\n"
       ]
      }
     ],
     "prompt_number": 43
    },
    {
     "cell_type": "code",
     "collapsed": false,
     "input": [
      "# slice (just like strings)"
     ],
     "language": "python",
     "metadata": {},
     "outputs": []
    },
    {
     "cell_type": "code",
     "collapsed": false,
     "input": [
      "# add lists"
     ],
     "language": "python",
     "metadata": {},
     "outputs": []
    },
    {
     "cell_type": "code",
     "collapsed": false,
     "input": [
      "# check if something is in a list\n",
      "7 in lerp"
     ],
     "language": "python",
     "metadata": {},
     "outputs": [
      {
       "metadata": {},
       "output_type": "pyout",
       "prompt_number": 44,
       "text": [
        "True"
       ]
      }
     ],
     "prompt_number": 44
    },
    {
     "cell_type": "code",
     "collapsed": false,
     "input": [
      "# check how many elements are in a list\n",
      "len(lerp)"
     ],
     "language": "python",
     "metadata": {},
     "outputs": [
      {
       "metadata": {},
       "output_type": "pyout",
       "prompt_number": 45,
       "text": [
        "5"
       ]
      }
     ],
     "prompt_number": 45
    },
    {
     "cell_type": "markdown",
     "metadata": {},
     "source": [
      "# Tuples\n",
      "\n",
      "Tuples are just like lists, except hwatever you put in there, is permanent, it cannot be changed\n",
      "\n",
      "you might think that's weird, but an example is after you load in patient data, and you do not want any of the information accidentely changed, you can load it into a tuple to ensure what you put in stays the same"
     ]
    },
    {
     "cell_type": "code",
     "collapsed": false,
     "input": [
      "# use a parenthesis instead of square bracket, everything else is the same\n",
      "terp = (2, 6, 8, True, \"hello\")\n",
      "print terp"
     ],
     "language": "python",
     "metadata": {},
     "outputs": [
      {
       "output_type": "stream",
       "stream": "stdout",
       "text": [
        "(2, 6, 8, True, 'hello')\n"
       ]
      }
     ],
     "prompt_number": 20
    },
    {
     "cell_type": "markdown",
     "metadata": {},
     "source": [
      "# Dictionaries\n",
      "\n",
      "A Python [dictionary](http://docs.python.org/2/tutorial/datastructures.html#dictionaries) is just like those giant fat books that you don't use anymore:  there is a **key** (the \"word\" you want to look up) associated with a **value** (the corresponding \"definition\" of the word or key).  This key\u2013value pair is what makes a dictionary a unique container.\n",
      "\n",
      "Keys are _immutable_, _unique_, and _unordered_.  This means that you cannot change an existing key; you cannot have multiple identical keys corresponding to different values; and object access can only be by numeric index if that number is, in fact, a defined key.  Values, on the other hand, can be any object without restriction."
     ]
    },
    {
     "cell_type": "code",
     "collapsed": false,
     "input": [
      "# Define a key\u2013value pair.\n",
      "key = \"daniel chen\"\n",
      "value = 25\n",
      "\n",
      "# You can create a dictionary, just like a list.  A dictionary is defined by curly braces.\n",
      "derp = {key:value, \"niels bantilan\": 25}\n",
      "print derp\n",
      "\n",
      "#Note that the order is indeterminate in the internal representation and output."
     ],
     "language": "python",
     "metadata": {},
     "outputs": [
      {
       "output_type": "stream",
       "stream": "stdout",
       "text": [
        "{'niels bantilan': 25, 'daniel chen': 25}\n"
       ]
      }
     ],
     "prompt_number": 7
    },
    {
     "cell_type": "markdown",
     "metadata": {},
     "source": [
      "Now that we have an initial dictionary containing key\u2013value pairs, how do we add to or remove from it?"
     ]
    },
    {
     "cell_type": "code",
     "collapsed": false,
     "input": [
      "#dict[\"my_new_key\"] = \"my_new_value\"\n",
      "derp['vivian peng'] = 25\n",
      "print derp"
     ],
     "language": "python",
     "metadata": {},
     "outputs": [
      {
       "output_type": "stream",
       "stream": "stdout",
       "text": [
        "{'niels bantilan': 25, 'vivian peng': 25, 'daniel chen': 25}\n"
       ]
      }
     ],
     "prompt_number": 8
    },
    {
     "cell_type": "code",
     "collapsed": false,
     "input": [
      "derp['greg wilson'] = 85\n",
      "print derp\n",
      "\n",
      "del derp['greg wilson']\n",
      "print derp"
     ],
     "language": "python",
     "metadata": {},
     "outputs": [
      {
       "output_type": "stream",
       "stream": "stdout",
       "text": [
        "{'niels bantilan': 25, 'vivian peng': 25, 'greg wilson': 85, 'daniel chen': 21}\n",
        "{'niels bantilan': 25, 'vivian peng': 25, 'daniel chen': 21}\n"
       ]
      }
     ],
     "prompt_number": 13
    },
    {
     "cell_type": "code",
     "collapsed": false,
     "input": [
      "# Assigning a new value to an existing key will overwrite the original value.\n",
      "derp[\"daniel chen\"] = 21\n",
      "print derp"
     ],
     "language": "python",
     "metadata": {},
     "outputs": [
      {
       "output_type": "stream",
       "stream": "stdout",
       "text": [
        "{'niels bantilan': 25, 'vivian peng': 25, 'daniel chen': 21}\n"
       ]
      }
     ],
     "prompt_number": 14
    },
    {
     "cell_type": "markdown",
     "metadata": {},
     "source": [
      "The main thing we are interested in, however, is _using_ a dictionary.  How do we 'look' keys up?  Just like list indexing, as it turns out."
     ]
    },
    {
     "cell_type": "code",
     "collapsed": false,
     "input": [
      "# How old is Daniel Chen?\n",
      "print derp[\"daniel chen\"]\n",
      "\n",
      "# Alernatively:\n",
      "print derp.get(\"daniel chen\")"
     ],
     "language": "python",
     "metadata": {},
     "outputs": [
      {
       "output_type": "stream",
       "stream": "stdout",
       "text": [
        "25\n"
       ]
      }
     ],
     "prompt_number": 46
    },
    {
     "cell_type": "markdown",
     "metadata": {},
     "source": [
      "Let's look for a key that does not exist in this dictionary:"
     ]
    },
    {
     "cell_type": "code",
     "collapsed": false,
     "input": [
      "print derp[\"monty python\"]"
     ],
     "language": "python",
     "metadata": {},
     "outputs": [
      {
       "ename": "KeyError",
       "evalue": "'monty python'",
       "output_type": "pyerr",
       "traceback": [
        "\u001b[0;31m---------------------------------------------------------------------------\u001b[0m\n\u001b[0;31mKeyError\u001b[0m                                  Traceback (most recent call last)",
        "\u001b[0;32m<ipython-input-15-1f0aa3a35665>\u001b[0m in \u001b[0;36m<module>\u001b[0;34m()\u001b[0m\n\u001b[0;32m----> 1\u001b[0;31m \u001b[0;32mprint\u001b[0m \u001b[0mderp\u001b[0m\u001b[0;34m[\u001b[0m\u001b[0;34m\"monty python\"\u001b[0m\u001b[0;34m]\u001b[0m\u001b[0;34m\u001b[0m\u001b[0m\n\u001b[0m",
        "\u001b[0;31mKeyError\u001b[0m: 'monty python'"
       ]
      }
     ],
     "prompt_number": 15
    },
    {
     "cell_type": "code",
     "collapsed": false,
     "input": [
      "# Note the different result here, so you will handle missing keys differently.\n",
      "print derp.get(\"monty python\")"
     ],
     "language": "python",
     "metadata": {},
     "outputs": [
      {
       "output_type": "stream",
       "stream": "stdout",
       "text": [
        "None\n"
       ]
      }
     ],
     "prompt_number": 16
    },
    {
     "cell_type": "markdown",
     "metadata": {},
     "source": [
      "The 'in' operator is an easy way to check for a key.  (You can also use the 'has_key' method.)"
     ]
    },
    {
     "cell_type": "code",
     "collapsed": false,
     "input": [
      "'monty python' in derp"
     ],
     "language": "python",
     "metadata": {},
     "outputs": [
      {
       "metadata": {},
       "output_type": "pyout",
       "prompt_number": 20,
       "text": [
        "False"
       ]
      }
     ],
     "prompt_number": 20
    },
    {
     "cell_type": "code",
     "collapsed": false,
     "input": [
      "'daniel chen' in derp"
     ],
     "language": "python",
     "metadata": {},
     "outputs": [
      {
       "metadata": {},
       "output_type": "pyout",
       "prompt_number": 21,
       "text": [
        "True"
       ]
      }
     ],
     "prompt_number": 21
    },
    {
     "cell_type": "markdown",
     "metadata": {},
     "source": [
      "A few more things:"
     ]
    },
    {
     "cell_type": "code",
     "collapsed": false,
     "input": [
      "# List all keys.\n",
      "print derp.keys()"
     ],
     "language": "python",
     "metadata": {},
     "outputs": [
      {
       "output_type": "stream",
       "stream": "stdout",
       "text": [
        "['niels bantilan', 'vivian peng', 'daniel chen']\n"
       ]
      }
     ],
     "prompt_number": 23
    },
    {
     "cell_type": "code",
     "collapsed": false,
     "input": [
      "# List all values.\n",
      "print derp.values()"
     ],
     "language": "python",
     "metadata": {},
     "outputs": [
      {
       "output_type": "stream",
       "stream": "stdout",
       "text": [
        "[25, 25, 21]\n"
       ]
      }
     ],
     "prompt_number": 24
    },
    {
     "cell_type": "code",
     "collapsed": false,
     "input": [
      "# Length = (number of key:value pairs)\n",
      "print len(derp)"
     ],
     "language": "python",
     "metadata": {},
     "outputs": [
      {
       "output_type": "stream",
       "stream": "stdout",
       "text": [
        "3\n"
       ]
      }
     ],
     "prompt_number": 25
    },
    {
     "cell_type": "code",
     "collapsed": false,
     "input": [
      "# if you get confused about variable type, then\n",
      "type(derp) # is your best friend!"
     ],
     "language": "python",
     "metadata": {},
     "outputs": [
      {
       "metadata": {},
       "output_type": "pyout",
       "prompt_number": 15,
       "text": [
        "dict"
       ]
      }
     ],
     "prompt_number": 15
    },
    {
     "cell_type": "markdown",
     "metadata": {},
     "source": [
      "# Exercises\n",
      "\n",
      "## 1\n",
      "Load a dictionary with the following key\u2013value pairs.  Print it.\n",
      "\n",
      "| key | value |\n",
      "|-------|---------|\n",
      "| fname | _your first name_ |\n",
      "| lname | _your last name_ |\n",
      "| age | 25 |\n",
      "| height | 69 |\n",
      "| weight | 180 |"
     ]
    },
    {
     "cell_type": "markdown",
     "metadata": {},
     "source": [
      "## 2\n",
      "\n",
      "A more advanced question:  how would you store the above data in a single dictionary entry?"
     ]
    },
    {
     "cell_type": "markdown",
     "metadata": {},
     "source": [
      "(You could accomplish this using a list of the above values, but a more straightforward solution is like a database:  simply store the dictionary above with an appropriate key, such as a number or name.)"
     ]
    }
   ],
   "metadata": {}
  }
 ]
}