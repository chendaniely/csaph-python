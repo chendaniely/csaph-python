{
 "metadata": {
  "name": ""
 },
 "nbformat": 3,
 "nbformat_minor": 0,
 "worksheets": [
  {
   "cells": [
    {
     "cell_type": "markdown",
     "metadata": {},
     "source": [
      "# Lists\n",
      "\n",
      "lists are essentially a 'list' of anything you can think of\n",
      "\n",
      "probably one of the most basic, versitile, and useful data structure you can think of"
     ]
    },
    {
     "cell_type": "code",
     "collapsed": false,
     "input": [
      "# create a list\n"
     ],
     "language": "python",
     "metadata": {},
     "outputs": []
    }
   ],
   "metadata": {}
  }
 ]
}