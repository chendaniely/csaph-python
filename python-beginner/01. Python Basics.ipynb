{
 "metadata": {
  "name": ""
 },
 "nbformat": 3,
 "nbformat_minor": 0,
 "worksheets": [
  {
   "cells": [
    {
     "cell_type": "markdown",
     "metadata": {},
     "source": [
      "# References\n",
      "[ADI: An introduction to python programming](http://adicu.com/intro-webdev/python/)\n",
      "\n",
      "[Official Python Tutorial](http://docs.python.org/2/tutorial/)\n",
      "\n",
      "[Online Python Tutor](http://pythontutor.com/)\n",
      "\n",
      "[Quick guide on data analysis with Python and pandas](http://www.randalolson.com/2012/08/06/statistical-analysis-made-easy-in-python/)\n"
     ]
    },
    {
     "cell_type": "markdown",
     "metadata": {},
     "source": [
      "# What is Python? And Why Should You Care?\n",
      "\n",
      "## Because it's named after \u201cMonty Python\u2019s Flying Circus\u201d\n",
      "\n",
      "Python is a high-level interpreted programming language.\n",
      "\n",
      "high level = there are many things that come with python that you (as a developer) do not have to code from scratch\n",
      "\n",
      "interpreted = you are a scientist, not an engineer, you want to be able to interact with your data, your program, or your script without having to compile it before being presented results, gone are the days of pode/compile/pray/test/code/re-compile, you can write 'throw away' scrips and move on.\n",
      "\n",
      "it's free\n",
      "\n",
      "it's extensiable"
     ]
    },
    {
     "cell_type": "markdown",
     "metadata": {},
     "source": [
      "# Comments\n",
      "You use comments to document what you are doing in your code\n",
      "\n",
      "you never know, you might have to look at your code 3 months from now, and will need to figure out what you did withought going line by line and re-figuring out your logic"
     ]
    },
    {
     "cell_type": "code",
     "collapsed": false,
     "input": [
      "# this is a python comment, it spans 1 line, and 1 line only\n",
      "\n",
      "'''\n",
      "this is not a multi-line comment\n",
      "you use 3 single quotes\n",
      "this is also called a docstring.  \n",
      "this is what is printed out when you call help\n",
      "'''\n",
      "\n",
      "\"\"\"\n",
      "you can also use\n",
      "3 double quotes\n",
      "\"\"\"\n"
     ],
     "language": "python",
     "metadata": {},
     "outputs": []
    },
    {
     "cell_type": "markdown",
     "metadata": {},
     "source": [
      "# You can do math in python!"
     ]
    },
    {
     "cell_type": "code",
     "collapsed": false,
     "input": [
      "1 + 1 #2\n",
      "\n",
      "9 - 1 # 8\n",
      "\n",
      "2 * 3 #6\n",
      "\n",
      "2**10 #1024\n",
      "\n",
      "8/4 #2\n",
      "\n",
      "9/2 #4\n",
      "\n",
      "9/2.0 #4.5\n",
      "\n",
      "9 + 2 * 3\n",
      "\n",
      "(9 + 2) * 3"
     ],
     "language": "python",
     "metadata": {},
     "outputs": []
    },
    {
     "cell_type": "code",
     "collapsed": false,
     "input": [],
     "language": "python",
     "metadata": {},
     "outputs": [
      {
       "metadata": {},
       "output_type": "pyout",
       "prompt_number": 3,
       "text": [
        "1024"
       ]
      }
     ],
     "prompt_number": 3
    },
    {
     "cell_type": "markdown",
     "metadata": {},
     "source": [
      "# Variables\n",
      "Think of variables like your introduction to algebra back in elementary school, when you wrote something like:\n",
      "\n",
      "let $x = 3$\n",
      "\n",
      "you can do the same in python.  the variable on the left side of the equal sign will be assigned the value on the right side."
     ]
    },
    {
     "cell_type": "code",
     "collapsed": false,
     "input": [
      "pizza = 3"
     ],
     "language": "python",
     "metadata": {},
     "outputs": [],
     "prompt_number": 5
    },
    {
     "cell_type": "markdown",
     "metadata": {},
     "source": [
      "to see the value of a variable we can either just put the variable on a separate line at the end (ipython specific function) or tell python to print the variable"
     ]
    },
    {
     "cell_type": "code",
     "collapsed": false,
     "input": [
      "x"
     ],
     "language": "python",
     "metadata": {},
     "outputs": [
      {
       "metadata": {},
       "output_type": "pyout",
       "prompt_number": 9,
       "text": [
        "3"
       ]
      }
     ],
     "prompt_number": 9
    },
    {
     "cell_type": "code",
     "collapsed": false,
     "input": [
      "print x # python 2.7"
     ],
     "language": "python",
     "metadata": {},
     "outputs": [
      {
       "output_type": "stream",
       "stream": "stdout",
       "text": [
        "3\n"
       ]
      }
     ],
     "prompt_number": 12
    },
    {
     "cell_type": "code",
     "collapsed": false,
     "input": [
      "print(x) #python 2.7 or 3+"
     ],
     "language": "python",
     "metadata": {},
     "outputs": [
      {
       "output_type": "stream",
       "stream": "stdout",
       "text": [
        "3\n"
       ]
      }
     ],
     "prompt_number": 13
    },
    {
     "cell_type": "markdown",
     "metadata": {},
     "source": [
      "# Built-in types"
     ]
    },
    {
     "cell_type": "markdown",
     "metadata": {},
     "source": [
      "Variables can be anything you can think about:\n",
      "\n",
      "\n",
      "- **Booleans** are either True or False.\n",
      "- Numbers can be **integers** (1 and 2), **floats** (1.1 and 1.2), fractions (1/2 and 2/3), or even **complex numbers**.\n",
      "- **Strings** are sequences of Unicode characters, e.g. an html document.\n",
      "- **Bytes** and byte arrays, e.g. a jpeg image file.\n",
      "- **Lists** are ordered sequences of values.\n",
      "- **Tuples** are ordered, immutable sequences of values.\n",
      "- **Sets** are unordered bags of values.\n",
      "- **Dictionaries** are unordered bags of key-value pairs.\n",
      "    \n",
      "more built-in types: \n",
      "\n",
      "http://docs.python.org/2/library/stdtypes.html\n",
      "\n",
      "http://www.diveintopython3.net/native-datatypes.html"
     ]
    },
    {
     "cell_type": "code",
     "collapsed": false,
     "input": [
      "x = True\n",
      "y = False\n",
      "z = 3\n",
      "a = 2.7\n",
      "b = 'welcome to the csaph python intro'\n",
      "print x, y, z, a, b"
     ],
     "language": "python",
     "metadata": {},
     "outputs": [
      {
       "output_type": "stream",
       "stream": "stdout",
       "text": [
        "True False 3 2.7 welcome to the csaph python intro\n"
       ]
      }
     ],
     "prompt_number": 14
    },
    {
     "cell_type": "markdown",
     "metadata": {},
     "source": [
      "Python is a dynamically typed language\n",
      "\n",
      "variables can be re-used and re-assigned on-the-fly"
     ]
    },
    {
     "cell_type": "code",
     "collapsed": false,
     "input": [
      "x = True\n",
      "print x\n",
      "\n",
      "# reverse inequalities by using 'not'\n",
      "print not x\n",
      "\n",
      "x = False\n",
      "print x\n",
      "\n",
      "x = 3\n",
      "print x\n",
      "\n",
      "x = 3.14\n",
      "print x\n",
      "\n",
      "x = \"hello!\"\n",
      "print x"
     ],
     "language": "python",
     "metadata": {},
     "outputs": []
    },
    {
     "cell_type": "markdown",
     "metadata": {},
     "source": [
      "# Comparisons and inequalities"
     ]
    },
    {
     "cell_type": "markdown",
     "metadata": {},
     "source": [
      "Sometimes when you are working with a dataset (or any piece of data) you will want to make comparisions.\n",
      "\n",
      "For example, you would like to know if:\n",
      "$$ \\text{age} > 25 $$\n",
      "\n",
      "We can do this and other forms of comparisons and inequalities in python as well (think back to your early math days!)"
     ]
    },
    {
     "cell_type": "code",
     "collapsed": false,
     "input": [
      "30 > 25 #true\n",
      "\n",
      "25 > 30 #false\n",
      "\n",
      "# assign some values to some variables\n",
      "age1 = 25\n",
      "age2 = 30\n",
      "\n",
      "age1 > age2 # false\n",
      "\n",
      "age1 <= age2 # true\n",
      "\n",
      "age1 = age2 # false\n",
      "\n",
      "age1 != age2 # true\n",
      "\n",
      "3.0 == 3 # true\n",
      "\n",
      "\"hello\" == \"Hello\" #false"
     ],
     "language": "python",
     "metadata": {},
     "outputs": [
      {
       "metadata": {},
       "output_type": "pyout",
       "prompt_number": 15,
       "text": [
        "False"
       ]
      }
     ],
     "prompt_number": 15
    },
    {
     "cell_type": "markdown",
     "metadata": {},
     "source": [
      "# Strings\n",
      "\n",
      "Eventually you will have to deal with strings.\n",
      "\n",
      "an example is when you have an ID column like 2014-255-001 where the ID is represented as YEAR-CENSUS_TRACT_ID\n",
      "\n",
      "So it's good to have some general idea of strings now, we will cover more in later sections"
     ]
    },
    {
     "cell_type": "code",
     "collapsed": false,
     "input": [
      "# this is a string\n",
      "\"Hello\"\n",
      "\n",
      "# this is also a string\n",
      "'Hello'\n",
      "\n",
      "# it does not matter if you use \" or ', just be consistent"
     ],
     "language": "python",
     "metadata": {},
     "outputs": []
    },
    {
     "cell_type": "code",
     "collapsed": false,
     "input": [
      "# concatenation\n",
      "\"Hello\" + \"everyone\" + \"attending\"\n",
      "\n",
      "\"hello \" + \"everyone\"\n",
      "\n",
      "\"hello\" + \" everyone\""
     ],
     "language": "python",
     "metadata": {},
     "outputs": []
    },
    {
     "cell_type": "code",
     "collapsed": false,
     "input": [],
     "language": "python",
     "metadata": {},
     "outputs": []
    },
    {
     "cell_type": "markdown",
     "metadata": {},
     "source": [
      "# Exercsise\n",
      "Using **only**\n",
      "\n",
      "- the numbers 4 and 6\n",
      "- the math operations: +, -, *, /\n",
      "- comparison symbol <\n",
      "- no string longer than 10 characters"
     ]
    },
    {
     "cell_type": "code",
     "collapsed": false,
     "input": [
      "# print the number 8\n",
      "\n",
      "(6 - 4) * 4"
     ],
     "language": "python",
     "metadata": {},
     "outputs": [
      {
       "metadata": {},
       "output_type": "pyout",
       "prompt_number": 16,
       "text": [
        "8"
       ]
      }
     ],
     "prompt_number": 16
    },
    {
     "cell_type": "code",
     "collapsed": false,
     "input": [
      "# print the number 102\n",
      "\n",
      "( 4+ 6) * (4 + 6) + (6 - 4)\n",
      "\n",
      "str(6+4) + str(2)"
     ],
     "language": "python",
     "metadata": {},
     "outputs": [
      {
       "metadata": {},
       "output_type": "pyout",
       "prompt_number": 19,
       "text": [
        "'102'"
       ]
      }
     ],
     "prompt_number": 19
    },
    {
     "cell_type": "code",
     "collapsed": false,
     "input": [
      "# print the string \"Tis but a flesh wound\"\n",
      "\n",
      "'This but a ' + 'flesh wound'"
     ],
     "language": "python",
     "metadata": {},
     "outputs": [
      {
       "metadata": {},
       "output_type": "pyout",
       "prompt_number": 20,
       "text": [
        "'This but a flesh wound'"
       ]
      }
     ],
     "prompt_number": 20
    },
    {
     "cell_type": "code",
     "collapsed": false,
     "input": [
      "# print the boolean value True\n",
      "6 > 4"
     ],
     "language": "python",
     "metadata": {},
     "outputs": [
      {
       "metadata": {},
       "output_type": "pyout",
       "prompt_number": 21,
       "text": [
        "True"
       ]
      }
     ],
     "prompt_number": 21
    }
   ],
   "metadata": {}
  }
 ]
}