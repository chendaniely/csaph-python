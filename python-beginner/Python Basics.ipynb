{
 "metadata": {
  "name": ""
 },
 "nbformat": 3,
 "nbformat_minor": 0,
 "worksheets": [
  {
   "cells": [
    {
     "cell_type": "code",
     "collapsed": false,
     "input": [
      "# this is a python comment, it spans 1 line, and 1 line only\n",
      "\n",
      "'''\n",
      "this is not a multi-line comment\n",
      "you use 3 single quotes\n",
      "this is also called a docstring.  \n",
      "this is what is printed out when you call help\n",
      "'''\n",
      "\n",
      "\"\"\"\n",
      "you can also use\n",
      "3 double quotes\n",
      "\"\"\"\n"
     ],
     "language": "python",
     "metadata": {},
     "outputs": []
    },
    {
     "cell_type": "markdown",
     "metadata": {},
     "source": [
      "# You can do math in python!"
     ]
    },
    {
     "cell_type": "code",
     "collapsed": false,
     "input": [
      "1 + 1 #2\n",
      "\n",
      "9 - 1 # 8\n",
      "\n",
      "2 * 3 #6\n",
      "\n",
      "2**10 #1024\n",
      "\n",
      "8/4 #2\n",
      "\n",
      "9/2 #4\n",
      "\n",
      "9/2.0 #4.5\n",
      "\n",
      "9 + 2 * 3\n",
      "\n",
      "(9 + 2) * 3"
     ],
     "language": "python",
     "metadata": {},
     "outputs": [
      {
       "metadata": {},
       "output_type": "pyout",
       "prompt_number": 2,
       "text": [
        "33"
       ]
      }
     ],
     "prompt_number": 2
    },
    {
     "cell_type": "markdown",
     "metadata": {},
     "source": [
      "# Variables\n",
      "Think of variables like your introduction to algebra back in elementary school, when you wrote something like:\n",
      "\n",
      "let $x = 3$\n",
      "\n",
      "you can do the same in python.  the variable on the left side of the equal sign will be assigned the value on the right side."
     ]
    },
    {
     "cell_type": "code",
     "collapsed": false,
     "input": [
      "x = 3"
     ],
     "language": "python",
     "metadata": {},
     "outputs": [],
     "prompt_number": 3
    },
    {
     "cell_type": "markdown",
     "metadata": {},
     "source": [
      "to see the value of a variable we can either just put the variable on a separate line at the end (ipython specific function) or tell python to print the variable"
     ]
    },
    {
     "cell_type": "code",
     "collapsed": false,
     "input": [
      "x"
     ],
     "language": "python",
     "metadata": {},
     "outputs": [
      {
       "metadata": {},
       "output_type": "pyout",
       "prompt_number": 9,
       "text": [
        "'hello!'"
       ]
      }
     ],
     "prompt_number": 9
    },
    {
     "cell_type": "code",
     "collapsed": false,
     "input": [
      "print x # python 2.7"
     ],
     "language": "python",
     "metadata": {},
     "outputs": [
      {
       "output_type": "stream",
       "stream": "stdout",
       "text": [
        "hello!\n"
       ]
      }
     ],
     "prompt_number": 10
    },
    {
     "cell_type": "code",
     "collapsed": false,
     "input": [
      "print(x) #python 2.7 or 3+"
     ],
     "language": "python",
     "metadata": {},
     "outputs": [
      {
       "output_type": "stream",
       "stream": "stdout",
       "text": [
        "hello!\n"
       ]
      }
     ],
     "prompt_number": 11
    },
    {
     "cell_type": "markdown",
     "metadata": {},
     "source": [
      "# Built-in types"
     ]
    },
    {
     "cell_type": "markdown",
     "metadata": {},
     "source": [
      "Variables can be anything you can think about:\n",
      "\n",
      "\n",
      "- **Booleans** are either True or False.\n",
      "- Numbers can be **integers** (1 and 2), **floats** (1.1 and 1.2), fractions (1/2 and 2/3), or even **complex numbers**.\n",
      "- **Strings** are sequences of Unicode characters, e.g. an html document.\n",
      "- **Bytes** and byte arrays, e.g. a jpeg image file.\n",
      "- **Lists** are ordered sequences of values.\n",
      "- **Tuples** are ordered, immutable sequences of values.\n",
      "- **Sets** are unordered bags of values.\n",
      "- **Dictionaries** are unordered bags of key-value pairs.\n",
      "    \n",
      "more built-in types: http://docs.python.org/2/library/stdtypes.html\n",
      "http://www.diveintopython3.net/native-datatypes.html"
     ]
    },
    {
     "cell_type": "code",
     "collapsed": false,
     "input": [
      "x = True\n",
      "y = False\n",
      "z = 3\n",
      "a = 2.7\n",
      "b = \"welcome to the csaph python intro\"\n",
      "print x, y, z, a, b"
     ],
     "language": "python",
     "metadata": {},
     "outputs": [
      {
       "output_type": "stream",
       "stream": "stdout",
       "text": [
        "True False 3 2.7 welcome to the csaph python intro\n"
       ]
      }
     ],
     "prompt_number": 12
    },
    {
     "cell_type": "markdown",
     "metadata": {},
     "source": [
      "Python is a dynamically typed language\n",
      "\n",
      "variables can be re-used and re-assigned on-the-fly"
     ]
    },
    {
     "cell_type": "code",
     "collapsed": false,
     "input": [
      "x = True\n",
      "print x\n",
      "\n",
      "print not x\n",
      "\n",
      "x = False\n",
      "print x\n",
      "\n",
      "x = 3\n",
      "print x\n",
      "\n",
      "x = 3.14\n",
      "print x\n",
      "\n",
      "x = \"hello!\"\n",
      "print x"
     ],
     "language": "python",
     "metadata": {},
     "outputs": [
      {
       "output_type": "stream",
       "stream": "stdout",
       "text": [
        "True\n",
        "False\n",
        "False\n",
        "3\n",
        "3.14\n",
        "hello!\n"
       ]
      }
     ],
     "prompt_number": 7
    },
    {
     "cell_type": "markdown",
     "metadata": {},
     "source": [
      "# Comparisons and inequalities"
     ]
    },
    {
     "cell_type": "markdown",
     "metadata": {},
     "source": [
      "Sometimes when you are working with a dataset (or any piece of data) you will want to make comparisions.\n",
      "\n",
      "For example, you would like to know if:\n",
      "$$ \\text{age} > 25 $$\n",
      "\n",
      "We can do this and other forms of comparisons and inequalities in python as well (think back to your early math days!)"
     ]
    },
    {
     "cell_type": "code",
     "collapsed": false,
     "input": [
      "30 > 25 #true\n",
      "\n",
      "25 > 30 #false\n",
      "\n",
      "# assign some values to some variables\n",
      "age1 = 25\n",
      "age2 = 30\n",
      "\n",
      "age1 > age2 #false\n",
      "\n"
     ],
     "language": "python",
     "metadata": {},
     "outputs": [
      {
       "metadata": {},
       "output_type": "pyout",
       "prompt_number": 15,
       "text": [
        "False"
       ]
      }
     ],
     "prompt_number": 15
    }
   ],
   "metadata": {}
  }
 ]
}