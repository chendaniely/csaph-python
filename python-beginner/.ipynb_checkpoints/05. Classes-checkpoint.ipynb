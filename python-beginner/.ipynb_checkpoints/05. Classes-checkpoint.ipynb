{
 "metadata": {
  "name": ""
 },
 "nbformat": 3,
 "nbformat_minor": 0,
 "worksheets": [
  {
   "cells": [
    {
     "cell_type": "markdown",
     "metadata": {},
     "source": [
      "# Classes\n",
      "\n",
      "some examples of classes"
     ]
    },
    {
     "cell_type": "code",
     "collapsed": false,
     "input": [
      "class Fruit(object):\n",
      "\t\"\"\"A class that makes various tasty fruits.\"\"\"\n",
      "\tdef __init__(self, name, color, flavor, poisonous):\n",
      "\t\tself.name = name\n",
      "\t\tself.color = color\n",
      "\t\tself.flavor = flavor\n",
      "\t\tself.poisonous = poisonous\n",
      "\t\n",
      "\tdef description(self):\n",
      "\t\tprint \"I'm a %s %s and I taste %s.\" % (self.color, self.name, self.flavor)\n",
      "\t\t\n",
      "\tdef is_edible(self):\n",
      "\t\tif not self.poisonous:\n",
      "\t\t\tprint \"Yep! I'm edible.\"\n",
      "\t\telse:\n",
      "\t\t\tprint \"Don't eat me! I am super poisonous.\"\n",
      "\n",
      "lemon = Fruit(\"lemon\", \"yellow\", \"sour\", False)\n",
      "\n",
      "lemon.description()\n",
      "lemon.is_edible()"
     ],
     "language": "python",
     "metadata": {},
     "outputs": []
    },
    {
     "cell_type": "code",
     "collapsed": false,
     "input": [
      "class ShoppingCart(object):\n",
      "    \"\"\"Creates shopping cart objects\n",
      "    for users of our fine website.\"\"\"\n",
      "    items_in_cart = {}\n",
      "    def __init__(self, customer_name):\n",
      "        self.customer_name = customer_name\n",
      "\t\t\n",
      "    def add_item(self, product, price):\n",
      "        \"\"\"Add product to the cart.\"\"\"\n",
      "        if not product in self.items_in_cart:\n",
      "            self.items_in_cart[product] = price\n",
      "            print product + \" added.\"\n",
      "        else:\n",
      "            print product + \" is already in the cart.\"\n",
      "\t\t\n",
      "    def remove_item(self, product):\n",
      "        \"\"\"Remove product from the cart.\"\"\"\n",
      "        if product in self.items_in_cart:\n",
      "            del self.items_in_cart[product]\n",
      "            print product + \" removed.\"\n",
      "        else:\n",
      "            print product + \" is not in the cart.\"\n",
      "\n",
      "my_cart = ShoppingCart(\"Daniel\")\n",
      "my_cart.add_item(\"pizza\",2.00)\n"
     ],
     "language": "python",
     "metadata": {},
     "outputs": []
    },
    {
     "cell_type": "markdown",
     "metadata": {},
     "source": [
      "# Inhertiance"
     ]
    },
    {
     "cell_type": "code",
     "collapsed": false,
     "input": [
      "class Shape(object):\n",
      "    \"\"\"Makes shapes!\"\"\"\n",
      "    def __init__(self, number_of_sides):\n",
      "        self.number_of_sides = number_of_sides\n",
      "\n",
      "# Add your Triangle class below!\n",
      "class Triangle(Shape):\n",
      "    def __init__(self, side1, side2, side3):\n",
      "        self.side1 = side1\n",
      "        self.side2 = side2\n",
      "        self.side3 = side3"
     ],
     "language": "python",
     "metadata": {},
     "outputs": []
    },
    {
     "cell_type": "code",
     "collapsed": false,
     "input": [
      "class Employee(object):\n",
      "    \"\"\"Models real-life employees!\"\"\"\n",
      "    def __init__(self, employee_name):\n",
      "        self.employee_name = employee_name\n",
      "\t\n",
      "    def calculate_wage(self, hours):\n",
      "        self.hours = hours\n",
      "        return hours * 20.00\n",
      "\n",
      "# Add your code below!\n",
      "class PartTimeEmployee(Employee):\n",
      "    def __init__(self,employee_name):\n",
      "        self.employee_name = employee_name\n",
      "    def calculate_wage(self, hours):\n",
      "        self.hours = hours\n",
      "        return hours * 12.00\n",
      "    def full_time_wage(self, hours):\n",
      "        self.hours = hours\n",
      "        return super(PartTimeEmployee,self).calculate_wage(hours)\n",
      "\n",
      "milton = PartTimeEmployee(\"milton\")\n",
      "print milton.full_time_wage(10)"
     ],
     "language": "python",
     "metadata": {},
     "outputs": []
    }
   ],
   "metadata": {}
  }
 ]
}