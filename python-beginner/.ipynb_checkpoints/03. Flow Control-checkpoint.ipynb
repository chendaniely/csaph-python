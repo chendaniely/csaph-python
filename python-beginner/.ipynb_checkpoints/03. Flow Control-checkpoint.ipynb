{
 "metadata": {
  "name": ""
 },
 "nbformat": 3,
 "nbformat_minor": 0,
 "worksheets": [
  {
   "cells": [
    {
     "cell_type": "markdown",
     "metadata": {},
     "source": [
      "#  Flow control\n",
      "\n",
      "##  I want to make a bacon sandwhich.\n",
      "\n",
      "How would I make a bacon sandwhich?\n",
      "\n",
      "What if I don't like the end pieces?\n",
      "\n",
      "What if I started a sandwhich factory and need to make thousands of them?\n",
      "\n",
      "what if the only people who like end pieces like eating their sandwhiches with double end pieces!??"
     ]
    },
    {
     "cell_type": "markdown",
     "metadata": {},
     "source": [
      "Computers are made to take a series of instructions and do something useful (or not).  These **algorithims** are what make computers so useful!  They allow computers to do what they do best, follow instructions and do them over and over again.\n",
      "\n",
      "What happens if a decision has to be made?"
     ]
    },
    {
     "cell_type": "markdown",
     "metadata": {},
     "source": [
      "## The if/else statement - conditional\n",
      "\n",
      "- If the piece of bread is an end piece, skip it\n",
      "\n",
      "What's nice about python is that a lot of the language can almost be read like english.\n",
      "\n",
      "the only 'syntax' you have to deal with is tabs and a semi-colon\n",
      "\n",
      "This is what an if statement looks like in python (in the general form)\n",
      "\n",
      "    if (some boolean value):\n",
      "        do some stuff if the boolean is true\n",
      "        \n",
      "[more on if elif else](http://www.tutorialspoint.com/python/python_if_else.htm)"
     ]
    },
    {
     "cell_type": "code",
     "collapsed": false,
     "input": [
      "if (4 > 3):\n",
      "    print \":D\""
     ],
     "language": "python",
     "metadata": {},
     "outputs": [
      {
       "output_type": "stream",
       "stream": "stdout",
       "text": [
        ":D\n"
       ]
      }
     ],
     "prompt_number": 1
    },
    {
     "cell_type": "markdown",
     "metadata": {},
     "source": [
      "in our bacon sandwhich example:\n",
      "\n",
      "    if (the slice of bread is an end piece):\n",
      "        skip it\n",
      "    else:\n",
      "        use bread to make sandwhich"
     ]
    },
    {
     "cell_type": "code",
     "collapsed": false,
     "input": [
      "list_of_names = [\"daniel\", \"niels\", \"vivian\", \"thomas\"]\n",
      "\n",
      "# how do i check if the fist name in the list is daniel?\n",
      "\n",
      "# how do i check if a name is in my list? if it is, print it!\n",
      "# if the name isn't add it to the list"
     ],
     "language": "python",
     "metadata": {},
     "outputs": [
      {
       "output_type": "stream",
       "stream": "stdout",
       "text": [
        "True\n"
       ]
      }
     ],
     "prompt_number": 2
    },
    {
     "cell_type": "markdown",
     "metadata": {},
     "source": [
      "# Loops\n",
      "\n",
      "## the for loop\n",
      "\n",
      "computers are great at doing something over and over again, one way we can tell a computer to iterate through something is using a 'for' loop\n",
      "\n",
      "the for loop looks like this:\n",
      "\n",
      "    for some_variable in some_iterable:\n",
      "        do something\n",
      "\n",
      "so, if we have an iterable (like a list), we can do something with each element in that list"
     ]
    },
    {
     "cell_type": "code",
     "collapsed": false,
     "input": [
      "list_of_names = [\"daniel\", \"niels\", \"vivian\", \"thomas\"]\n",
      "\n",
      "for name in list_of_names:\n",
      "    print name"
     ],
     "language": "python",
     "metadata": {},
     "outputs": [
      {
       "output_type": "stream",
       "stream": "stdout",
       "text": [
        "daniel\n",
        "niels\n",
        "vivian\n",
        "thomas\n"
       ]
      }
     ],
     "prompt_number": 3
    },
    {
     "cell_type": "markdown",
     "metadata": {},
     "source": [
      "isn't that cool? now we don't have to change an index to get each one.\n",
      "\n",
      "This brings us to a very important point:\n",
      "\n",
      "- you want to copy paste code as little as possible, more repetition in code, means when you have to change something, it will have to be corrected in many places, this can lead to mistakes (we will drive this point further in the next chapter)"
     ]
    },
    {
     "cell_type": "code",
     "collapsed": false,
     "input": [
      "# the 'name' variable in the previous example can be anything\n",
      "# however you should use variable names so it is readable and \n",
      "# self documenting\n",
      "\n",
      "# we could've easily have written the follow to do the same thing\n",
      "# coconut\n",
      "\n",
      "## todo write code here"
     ],
     "language": "python",
     "metadata": {},
     "outputs": [],
     "prompt_number": 5
    },
    {
     "cell_type": "markdown",
     "metadata": {},
     "source": [
      "## the while loop\n",
      "although not as common as the for loop, the while loop has a similar structure to the if statment.  at the end of each cycle, the condition is re-evaluated.  It will only exit the loop if the condition evaluates to false\n",
      "\n",
      "be careful with while loops, it's possible to enter an infinite loop here."
     ]
    },
    {
     "cell_type": "code",
     "collapsed": false,
     "input": [
      "# infinite while loop"
     ],
     "language": "python",
     "metadata": {},
     "outputs": []
    },
    {
     "cell_type": "markdown",
     "metadata": {},
     "source": [
      "I do not use while loops too much, you can pretty much accomplish the same thing using a for loop, however, sometimes i would use it if there are calculations to be done, and  i know what case for it to stop in."
     ]
    },
    {
     "cell_type": "markdown",
     "metadata": {},
     "source": [
      "## more flow control statements\n",
      "\n",
      "### the continue statment\n",
      "Sometimes when you are doing loops, you know a certain value is an exception and should be skipped over but you still need to iterate through the loop.  How do you manage this?\n",
      "\n",
      "although you can add an if statment, once it leaves the if block, the program will still loop through the rest of the loop block,\n",
      "\n",
      "the continue statment solves this issue\n",
      "\n",
      "essentially it says, stop everythign here, and return to the top, and continue as usual."
     ]
    },
    {
     "cell_type": "code",
     "collapsed": false,
     "input": [
      "list_of_names = [\"daniel\", \"niels\", \"vivian\", \"thomas\"]\n",
      "\n",
      "# skip daniel but print the rest\n",
      "\n",
      "# skip vivian, but print the rest"
     ],
     "language": "python",
     "metadata": {},
     "outputs": []
    },
    {
     "cell_type": "markdown",
     "metadata": {},
     "source": [
      "### the break statement\n",
      "\n",
      "Sometimes there is such an exception that you need to prematurely **break** out of the loop."
     ]
    },
    {
     "cell_type": "code",
     "collapsed": false,
     "input": [
      "list_of_names = [\"daniel\", \"niels\", \"vivian\", \"thomas\"]\n",
      "\n",
      "'''\n",
      "niels is the president of CSAPH, what if we had a list of names\n",
      "but did not know where in the list he is?\n",
      "\n",
      "we can loop through the list, and stop when we see his name\n",
      "'''\n"
     ],
     "language": "python",
     "metadata": {},
     "outputs": []
    },
    {
     "cell_type": "markdown",
     "metadata": {},
     "source": [
      "# Congratulations!\n",
      "\n",
      "what you have learned until now are the very basic fundamentals to programming, everything you learn hear on out will build on this.  It's amazing what you can accomplish with variables, data structures, conditionals, and loops"
     ]
    },
    {
     "cell_type": "markdown",
     "metadata": {},
     "source": [
      "# Let's keep building on conditionals and lists.\n",
      "\n",
      "We want niel's name in the list, how would we get where his position is if we do not know it?"
     ]
    },
    {
     "cell_type": "code",
     "collapsed": false,
     "input": [
      "# hint: loop and variables"
     ],
     "language": "python",
     "metadata": {},
     "outputs": []
    },
    {
     "cell_type": "code",
     "collapsed": false,
     "input": [
      "# let's write the same thing using a while() loop"
     ],
     "language": "python",
     "metadata": {},
     "outputs": []
    },
    {
     "cell_type": "markdown",
     "metadata": {},
     "source": [
      "## Here's a fun question I wrote for Software Carpentry\n",
      "\n",
      "here is pseudo code taken from wikipedia on how to calculate a leap year:\n",
      "I have numbered the lines\n",
      "\n",
      "1. if year is divisible by 400 then is_leap_year\n",
      "2. else if year is divisible by 100 then not_leap_year\n",
      "3. else if year is divisible by 4 then is_leap_year\n",
      "4. else not_leap_year\n",
      "\n",
      "If i was counting from year 0 to 2014\n",
      "where would I put a break statement so i stop counting after I encounter the first year that is divisible by 4 but still not be a leap year?\n",
      "\n",
      "A. before line 1  \n",
      "B. after line 1  \n",
      "C. after line 2  \n",
      "D. after line 3  \n",
      "E. after line 4  "
     ]
    },
    {
     "cell_type": "markdown",
     "metadata": {},
     "source": [
      "Wasn't that fun? bet you didn't know that there's more to leap years than you thought!\n",
      "\n",
      "Let's actually write something where we assign some number to a variable, and then test to see if it is a leap year or not"
     ]
    },
    {
     "cell_type": "code",
     "collapsed": false,
     "input": [
      "## leap year code"
     ],
     "language": "python",
     "metadata": {},
     "outputs": []
    },
    {
     "cell_type": "markdown",
     "metadata": {},
     "source": [
      "# You told us we learned the core material alreay, you promiced building patient data!\n",
      "\n",
      "fine.\n",
      "\n",
      "Let's go generate some data and read it in to python in some way."
     ]
    },
    {
     "cell_type": "code",
     "collapsed": false,
     "input": [],
     "language": "python",
     "metadata": {},
     "outputs": [
      {
       "output_type": "stream",
       "stream": "stdout",
       "text": [
        "/home/dchen/git/columbia/csaph-python/python-beginner\n"
       ]
      }
     ],
     "prompt_number": 7
    },
    {
     "cell_type": "markdown",
     "metadata": {},
     "source": [
      "What if we are only interested in first names?"
     ]
    },
    {
     "cell_type": "code",
     "collapsed": false,
     "input": [],
     "language": "python",
     "metadata": {},
     "outputs": []
    },
    {
     "cell_type": "markdown",
     "metadata": {},
     "source": [
      "Uh oh... how to we break apart the lines?\n",
      "\n",
      "Do we see any kind of pattern?"
     ]
    },
    {
     "cell_type": "code",
     "collapsed": false,
     "input": [
      "# string methods"
     ],
     "language": "python",
     "metadata": {},
     "outputs": []
    },
    {
     "cell_type": "markdown",
     "metadata": {},
     "source": [
      "Do we have enough to find first names now?"
     ]
    },
    {
     "cell_type": "code",
     "collapsed": false,
     "input": [],
     "language": "python",
     "metadata": {},
     "outputs": []
    },
    {
     "cell_type": "markdown",
     "metadata": {},
     "source": [
      "Let's do some summary statistics"
     ]
    },
    {
     "cell_type": "code",
     "collapsed": false,
     "input": [],
     "language": "python",
     "metadata": {},
     "outputs": []
    },
    {
     "cell_type": "markdown",
     "metadata": {},
     "source": [
      "What else can we do?"
     ]
    },
    {
     "cell_type": "markdown",
     "metadata": {},
     "source": [
      "## range()\n",
      "\n",
      "I lied, this is pretty useful too.\n",
      "\n",
      "let's play around with range()\n",
      "\n",
      "what do you think range does?\n",
      "\n",
      "what do you think range(10) does? or range(0,10), or range(5,10)"
     ]
    },
    {
     "cell_type": "code",
     "collapsed": false,
     "input": [],
     "language": "python",
     "metadata": {},
     "outputs": []
    },
    {
     "cell_type": "markdown",
     "metadata": {},
     "source": [
      "Cool, let's have some mind teasers\n",
      "\n",
      "[link to swc questions](http://teaching.software-carpentry.org/2014/02/11/mcq-python-flow-control/)"
     ]
    },
    {
     "cell_type": "markdown",
     "metadata": {},
     "source": [
      "which of the following will only print \u201chello world\u201d exactly 3 times?\n",
      "\n",
      "A.\n",
      "\n",
      " \n",
      "    while(True):\n",
      "       Print \"hello world\"\n",
      "B.\n",
      "\n",
      " \n",
      "    for pizza in range(4):\n",
      "      if pizza == 4:\n",
      "           break\n",
      "      else:\n",
      "           print \"hello world\"\n",
      "C.\n",
      "\n",
      " \n",
      "    for pizza in range(4):\n",
      "        if pizza == 3:\n",
      "            break\n",
      "        else:\n",
      "            print \"hello world\"\n",
      "        if pizza == 2:\n",
      "            continue\n",
      "D.\n",
      "\n",
      " \n",
      "    for pizza in range(3):\n",
      "          continue\n",
      "          print \"hello world\"\n",
      "E.\n",
      "\n",
      " \n",
      "    for pizza in range(3):\n",
      "          continue\n",
      "          print \"hello world\"\n",
      "          break\n",
      "F.\n",
      "\n",
      " \n",
      "    for pizza in range(4):\n",
      "        if pizza == 3:\n",
      "            break\n",
      "        if pizza == 2:\n",
      "            continue\n",
      "        else:\n",
      "            print \"hello world\""
     ]
    },
    {
     "cell_type": "code",
     "collapsed": false,
     "input": [],
     "language": "python",
     "metadata": {},
     "outputs": []
    },
    {
     "cell_type": "markdown",
     "metadata": {},
     "source": [
      "here is a MCQ that will test your understanding of loops, conditions, and flow control\n",
      "\n",
      "You probably would never write code like this but take this as an example:\n",
      "\n",
      "What will this script return in standard output?\n",
      "\n",
      "\n",
      "    flag = False\n",
      "    while (not flag):\n",
      "        for pizza in range(5):\n",
      "            print pizza\n",
      "            if pizza == 5:\n",
      "                print \"stop feeding me i'm full\"\n",
      "            if pizza == 4:\n",
      "                continue\n",
      "            if pizza == 3:\n",
      "                break\n",
      "                flag = False\n",
      "            if pizza == 2:\n",
      "                flag = True\n",
      "            if pizza == int(str(1)):\n",
      "                print \"more pizza please\"\n",
      "            else:\n",
      "                continue\n",
      "        break\n",
      "A. this will return an infinite loop  \n",
      "B. the values 0, 1, more pizza please, 2, 3, 4, 5, stop feeding me i\u2019m full on separate lines  \n",
      "C. the values 0, 1, more pizza please, 2, 3, 4 on separate lines  \n",
      "D. the values 0, 1, more pizza please, 2, 3, stop feeding me i\u2019m full on separate lines  \n",
      "E. the values 0, 1, more pizza please, 2, 3 on separate lines  \n",
      "F. the values 0, 1, 2, 3, 4, 5 on separate lines  \n",
      "G. the values 0, 1, 2, 3, 4 on separate lines  \n",
      "H. this will return nothing"
     ]
    },
    {
     "cell_type": "code",
     "collapsed": false,
     "input": [],
     "language": "python",
     "metadata": {},
     "outputs": []
    }
   ],
   "metadata": {}
  }
 ]
}