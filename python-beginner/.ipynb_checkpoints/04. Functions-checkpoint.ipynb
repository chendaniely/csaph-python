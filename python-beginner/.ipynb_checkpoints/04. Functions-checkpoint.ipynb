{
 "metadata": {
  "name": ""
 },
 "nbformat": 3,
 "nbformat_minor": 0,
 "worksheets": [
  {
   "cells": [
    {
     "cell_type": "markdown",
     "metadata": {},
     "source": [
      "Let's load in our toy data set again"
     ]
    },
    {
     "cell_type": "code",
     "collapsed": false,
     "input": [],
     "language": "python",
     "metadata": {},
     "outputs": []
    },
    {
     "cell_type": "markdown",
     "metadata": {},
     "source": [
      "We want to calculate BMI, how do we do that?"
     ]
    },
    {
     "cell_type": "code",
     "collapsed": false,
     "input": [],
     "language": "python",
     "metadata": {},
     "outputs": []
    },
    {
     "cell_type": "markdown",
     "metadata": {},
     "source": [
      "since we know how to go line by line through the list, let's go calculate BMI"
     ]
    },
    {
     "cell_type": "code",
     "collapsed": false,
     "input": [],
     "language": "python",
     "metadata": {},
     "outputs": []
    },
    {
     "cell_type": "markdown",
     "metadata": {},
     "source": [
      "but what if we want to use BMI on another data set?\n",
      "\n",
      "what if we just need to calculate bmi for some other reason?\n",
      "\n",
      "what if this is spread out through out our notebook/script/code??"
     ]
    },
    {
     "cell_type": "markdown",
     "metadata": {},
     "source": [
      "# functions to the resuce!\n",
      "\n",
      "functions, just like mathematical functions, take in some input (that you specify) does some stuff with it, and output something"
     ]
    },
    {
     "cell_type": "code",
     "collapsed": false,
     "input": [
      "# function to calculate BMI"
     ],
     "language": "python",
     "metadata": {},
     "outputs": []
    },
    {
     "cell_type": "markdown",
     "metadata": {},
     "source": [
      "Let's do the previous examples again, but this time using the new function we made"
     ]
    },
    {
     "cell_type": "code",
     "collapsed": false,
     "input": [],
     "language": "python",
     "metadata": {},
     "outputs": []
    },
    {
     "cell_type": "markdown",
     "metadata": {},
     "source": [
      "See isn't that so much better?\n",
      "\n",
      "not only is the code 'simplier', it is easier to read, easier to maintain, and if you find a mistake in your function, you change it once, and everytime it is called again will be updated\n",
      "\n",
      "gone are the ways where you 'missed a spot'\n",
      "\n",
      "can SAS give you that????"
     ]
    },
    {
     "cell_type": "code",
     "collapsed": false,
     "input": [],
     "language": "python",
     "metadata": {},
     "outputs": []
    }
   ],
   "metadata": {}
  }
 ]
}