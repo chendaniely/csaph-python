{
 "metadata": {
  "name": ""
 },
 "nbformat": 3,
 "nbformat_minor": 0,
 "worksheets": [
  {
   "cells": [
    {
     "cell_type": "code",
     "collapsed": false,
     "input": [
      "# this is a python comment, it spans 1 line, and 1 line only\n",
      "\n",
      "'''\n",
      "this is not a multi-line comment\n",
      "you use 3 single quotes\n",
      "this is also called a docstring.  \n",
      "this is what is printed out when you call help\n",
      "'''\n",
      "\n",
      "\"\"\"\n",
      "you can also use\n",
      "3 double quotes\n",
      "\"\"\"\n"
     ],
     "language": "python",
     "metadata": {},
     "outputs": []
    },
    {
     "cell_type": "markdown",
     "metadata": {},
     "source": [
      "# You can do math in python!"
     ]
    },
    {
     "cell_type": "code",
     "collapsed": false,
     "input": [
      "1 + 1\n",
      "\n",
      "9 - 1\n",
      "\n",
      "2 * 3\n",
      "\n",
      "2**10\n",
      "\n",
      "8/4\n",
      "\n",
      "9/2\n",
      "\n",
      "9/2.0\n",
      "\n",
      "9 + 2 * 3\n",
      "\n",
      "(9 + 2) * 3"
     ],
     "language": "python",
     "metadata": {},
     "outputs": []
    },
    {
     "cell_type": "markdown",
     "metadata": {},
     "source": [
      "# Variables\n",
      "Think of variables like your introduction to algebra back in elementary school, when you wrote something like:\n",
      "\n",
      "let $x = 3$\n",
      "\n",
      "you can do the same in python.  the variable on the left side of the equal sign will be assigned the value on the right side."
     ]
    },
    {
     "cell_type": "code",
     "collapsed": false,
     "input": [
      "x = 3"
     ],
     "language": "python",
     "metadata": {},
     "outputs": []
    },
    {
     "cell_type": "markdown",
     "metadata": {},
     "source": [
      "to see the value of a variable we can either just put the variable on a separate line at the end (ipython specific function) or tell python to print the variable"
     ]
    },
    {
     "cell_type": "code",
     "collapsed": false,
     "input": [
      "x"
     ],
     "language": "python",
     "metadata": {},
     "outputs": []
    },
    {
     "cell_type": "code",
     "collapsed": false,
     "input": [
      "print x"
     ],
     "language": "python",
     "metadata": {},
     "outputs": []
    },
    {
     "cell_type": "markdown",
     "metadata": {},
     "source": [
      "Variables can be anything you can think about:\n",
      "\n",
      "\n",
      "- Booleans are either True or False.\n",
      "- Numbers can be integers (1 and 2), floats (1.1 and 1.2), fractions (1/2 and 2/3), or even complex numbers.\n",
      "- Strings are sequences of Unicode characters, e.g. an html document.\n",
      "- Bytes and byte arrays, e.g. a jpeg image file.\n",
      "- Lists are ordered sequences of values.\n",
      "- Tuples are ordered, immutable sequences of values.\n",
      "- Sets are unordered bags of values.\n",
      "- Dictionaries are unordered bags of key-value pairs.\n",
      "    \n",
      "more built-in types: http://docs.python.org/2/library/stdtypes.html\n",
      "http://www.diveintopython3.net/native-datatypes.html"
     ]
    },
    {
     "cell_type": "code",
     "collapsed": false,
     "input": [
      "x = True\n",
      "y = False\n",
      "z = 3\n",
      "a = 2.7\n",
      "b = \"welcome to the csaph python intro\"\n",
      "print x, y, z, a, b"
     ],
     "language": "python",
     "metadata": {},
     "outputs": []
    },
    {
     "cell_type": "markdown",
     "metadata": {},
     "source": [
      "Python is a dynamically typed language\n",
      "\n",
      "variables can be re-used and re-assigned on-the-fly"
     ]
    }
   ],
   "metadata": {}
  }
 ]
}