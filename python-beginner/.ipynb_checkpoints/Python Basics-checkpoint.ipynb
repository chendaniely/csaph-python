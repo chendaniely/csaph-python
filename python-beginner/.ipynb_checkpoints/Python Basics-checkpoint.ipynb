{
 "metadata": {
  "name": ""
 },
 "nbformat": 3,
 "nbformat_minor": 0,
 "worksheets": [
  {
   "cells": [
    {
     "cell_type": "markdown",
     "metadata": {},
     "source": [
      "# Variables\n",
      "Think of variables like your introduction to algebra back in elementary school, when you wrote something like:\n",
      "\n",
      "let $x = 3$\n",
      "\n",
      "you can do the same in python.  the variable on the left side of the equal sign will be assigned the value on the right side."
     ]
    },
    {
     "cell_type": "code",
     "collapsed": false,
     "input": [
      "x = 3"
     ],
     "language": "python",
     "metadata": {},
     "outputs": [],
     "prompt_number": 4
    },
    {
     "cell_type": "markdown",
     "metadata": {},
     "source": [
      "to see the value of a variable we can either just put the variable on a separate line at the end (ipython specific function) or tell python to print the variable"
     ]
    },
    {
     "cell_type": "code",
     "collapsed": false,
     "input": [
      "x"
     ],
     "language": "python",
     "metadata": {},
     "outputs": [
      {
       "metadata": {},
       "output_type": "pyout",
       "prompt_number": 6,
       "text": [
        "3"
       ]
      }
     ],
     "prompt_number": 6
    },
    {
     "cell_type": "code",
     "collapsed": false,
     "input": [
      "print x"
     ],
     "language": "python",
     "metadata": {},
     "outputs": [
      {
       "output_type": "stream",
       "stream": "stdout",
       "text": [
        "3\n"
       ]
      }
     ],
     "prompt_number": 7
    },
    {
     "cell_type": "markdown",
     "metadata": {},
     "source": [
      "Variables can be anything you can think about:\n",
      "\n",
      "- Boolean (True, False)\n",
      "- integers\n",
      "- floats (a.k.a doubles)\n",
      "- complex\n",
      "- strings\n",
      "    \n",
      "more built-in types: http://docs.python.org/2/library/stdtypes.html"
     ]
    },
    {
     "cell_type": "code",
     "collapsed": false,
     "input": [
      "x = True\n",
      "y = False\n",
      "z = 3\n",
      "a = 2.7\n",
      "b = \"welcome to the csaph python intro\"\n",
      "print x, y, z, a, b"
     ],
     "language": "python",
     "metadata": {},
     "outputs": [
      {
       "output_type": "stream",
       "stream": "stdout",
       "text": [
        "True False 3 2.7 welcome to the csaph python intro\n"
       ]
      }
     ],
     "prompt_number": 10
    },
    {
     "cell_type": "markdown",
     "metadata": {},
     "source": [
      "Python is a dynamically typed language\n",
      "\n",
      "variables can be re-used and re-assigned on-the-fly"
     ]
    }
   ],
   "metadata": {}
  }
 ]
}