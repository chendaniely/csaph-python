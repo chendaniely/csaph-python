{
 "metadata": {
  "name": ""
 },
 "nbformat": 3,
 "nbformat_minor": 0,
 "worksheets": [
  {
   "cells": [
    {
     "cell_type": "markdown",
     "metadata": {},
     "source": [
      "# Data Structures\n",
      "\n",
      "Cool, now that I can do some basic math, and string manipulation, I want more!\n",
      "\n",
      "A data structure is some conatiner (structure) that holds information (data)"
     ]
    },
    {
     "cell_type": "markdown",
     "metadata": {},
     "source": [
      "# Lists\n",
      "\n",
      "lists are essentially a 'list' of anything you can think of\n",
      "\n",
      "probably one of the most basic, versitile, and useful data structure you can think of\n",
      "\n",
      "they just hold stuff in the order you give it"
     ]
    },
    {
     "cell_type": "code",
     "collapsed": false,
     "input": [
      "#  note, you can't use 'list' as a variable, it is a python protected phrase\n",
      "my_list = []\n",
      "my_int_list = [1, 3, 5, 7, 10, 11]\n",
      "\n",
      "print my_list\n",
      "print my_int_list"
     ],
     "language": "python",
     "metadata": {},
     "outputs": [
      {
       "output_type": "stream",
       "stream": "stdout",
       "text": [
        "[]\n",
        "[1, 3, 5, 7, 10, 11]\n"
       ]
      }
     ],
     "prompt_number": 2
    },
    {
     "cell_type": "markdown",
     "metadata": {},
     "source": [
      "Lists do not have to contain the same type"
     ]
    },
    {
     "cell_type": "code",
     "collapsed": false,
     "input": [
      "my_mixed_list = [True, \"i got\", 3 + 1, \"equals\", 4, \"goats for christmas\"]\n",
      "print my_mixed_list"
     ],
     "language": "python",
     "metadata": {},
     "outputs": []
    },
    {
     "cell_type": "markdown",
     "metadata": {},
     "source": [
      "you can even store lists into variables!"
     ]
    },
    {
     "cell_type": "code",
     "collapsed": false,
     "input": [
      "my_mixed_list = [True, \"i got\", 3 + 1, \"equals\", 4, \"goats for christmas\"]\n",
      "print \"my_mixed_list = \", my_mixed_list\n",
      "\n",
      "x = my_mixed_list\n",
      "print \"x = \", x"
     ],
     "language": "python",
     "metadata": {},
     "outputs": [
      {
       "output_type": "stream",
       "stream": "stdout",
       "text": [
        "my_mixed_list =  [True, 'i got', 4, 'equals', 4, 'goats for christmas']\n",
        "x =  [True, 'i got', 4, 'equals', 4, 'goats for christmas']\n"
       ]
      }
     ],
     "prompt_number": 7
    },
    {
     "cell_type": "markdown",
     "metadata": {},
     "source": [
      "## It's all fun and games until you need to get something out of a list\n",
      "\n",
      "I have everything stored in a list!\n",
      "\n",
      "But I need something out of it, what good is a list if I can't get something out?"
     ]
    },
    {
     "cell_type": "code",
     "collapsed": false,
     "input": [
      "# consider this: I have a list of data:\n",
      "patient_data = [\"Daniel\", \"Chen\", 25, \"male\"]\n",
      "\n",
      "print patient_data"
     ],
     "language": "python",
     "metadata": {},
     "outputs": [
      {
       "output_type": "stream",
       "stream": "stdout",
       "text": [
        "['Daniel', 'Chen', 25, 'male']\n"
       ]
      }
     ],
     "prompt_number": 10
    },
    {
     "cell_type": "markdown",
     "metadata": {},
     "source": [
      "How would I, for example, get only the first name? or the age?\n",
      "\n",
      "First there are a few things to mention about indexing in python\n",
      "\n",
      "- it is zero indexed\n",
      "    - this means that the first item in in list is position 0 (not 1)"
     ]
    },
    {
     "cell_type": "markdown",
     "metadata": {},
     "source": [
      "| Index | 0      | 1    | 2  | 3    |\n",
      "|-------|--------|------|----|------|\n",
      "| Value | Daniel | Chen | 25 | male |"
     ]
    },
    {
     "cell_type": "code",
     "collapsed": false,
     "input": [
      "patient_data = [\"Daniel\", \"Chen\", 25, \"male\"]\n",
      "\n",
      "# extract my first name\n",
      "print \"fname = \", patient_data[0]"
     ],
     "language": "python",
     "metadata": {},
     "outputs": [
      {
       "output_type": "stream",
       "stream": "stdout",
       "text": [
        "fname =  Daniel\n"
       ]
      }
     ],
     "prompt_number": 13
    },
    {
     "cell_type": "code",
     "collapsed": false,
     "input": [
      "# extract the age\n",
      "patient_data[2]"
     ],
     "language": "python",
     "metadata": {},
     "outputs": [
      {
       "metadata": {},
       "output_type": "pyout",
       "prompt_number": 14,
       "text": [
        "25"
       ]
      }
     ],
     "prompt_number": 14
    },
    {
     "cell_type": "markdown",
     "metadata": {},
     "source": [
      "Lists are what we call an 'iterable', that is something that you can just go one-by-one through\n",
      "\n",
      "Remember strings? They are also iterables"
     ]
    },
    {
     "cell_type": "markdown",
     "metadata": {},
     "source": [
      "## Getting parts from a string"
     ]
    },
    {
     "cell_type": "code",
     "collapsed": false,
     "input": [
      "string = \"Coconut\"\n",
      "\n",
      "# get the first letter\n",
      "string[0]\n",
      "\n",
      "# get the second letter\n",
      "string[1]\n",
      "\n",
      "# get the first letter from the end\n",
      "string[-1]"
     ],
     "language": "python",
     "metadata": {},
     "outputs": []
    },
    {
     "cell_type": "markdown",
     "metadata": {},
     "source": [
      "## Slicing\n",
      "\n",
      "What about when you want just a certain part of a string?\n",
      "\n",
      "lets bulid off the census ID string we had earlier"
     ]
    },
    {
     "cell_type": "code",
     "collapsed": false,
     "input": [
      "# year 2014; CT 255; ID 1\n",
      "censusID = \"2014-255-001\"\n",
      "\n",
      "# what if we just want the year?\n",
      "# we can slice!\n",
      "censusID[0:4]\n",
      "\n",
      "# since it is from the beginning we can also do the following\n",
      "censusID[:4]\n",
      "\n",
      "# both results will return a STRING 2014"
     ],
     "language": "python",
     "metadata": {},
     "outputs": [
      {
       "metadata": {},
       "output_type": "pyout",
       "prompt_number": 16,
       "text": [
        "'2014'"
       ]
      }
     ],
     "prompt_number": 16
    },
    {
     "cell_type": "code",
     "collapsed": false,
     "input": [
      "censusID[5:8]\n",
      "\n",
      "censusID[9:]"
     ],
     "language": "python",
     "metadata": {},
     "outputs": [
      {
       "metadata": {},
       "output_type": "pyout",
       "prompt_number": 17,
       "text": [
        "'001'"
       ]
      }
     ],
     "prompt_number": 17
    },
    {
     "cell_type": "markdown",
     "metadata": {},
     "source": [
      "# Excercise\n",
      "\n",
      "Introduce yourself to 1 neighbor, get their first and last name.\n",
      "\n",
      "- Assign the varriable x to equal \"My name is **your first and last name**\"\n",
      "- Assign the variable y to equal \"My neighbor's name is **your neighbor's first and last name**\"\n",
      "\n",
      "Write an inequality that extracts out the first names, and test to see whether or not they are equal"
     ]
    },
    {
     "cell_type": "markdown",
     "metadata": {},
     "source": [
      "# More lists\n",
      "\n",
      "What else can you do with lists?"
     ]
    },
    {
     "cell_type": "code",
     "collapsed": false,
     "input": [
      "# some list\n",
      "\n",
      "lerp = [1, 3, 5, 7, 9, 22]\n",
      "\n",
      "# append\n",
      "lerp.append(4)\n",
      "print lerp"
     ],
     "language": "python",
     "metadata": {},
     "outputs": [
      {
       "output_type": "stream",
       "stream": "stdout",
       "text": [
        "[1, 3, 5, 7, 9, 22, 4]\n"
       ]
      }
     ],
     "prompt_number": 41
    },
    {
     "cell_type": "code",
     "collapsed": false,
     "input": [
      "# pop (get the last value, and also remove from list)\n",
      "print lerp.pop()\n",
      "print lerp"
     ],
     "language": "python",
     "metadata": {},
     "outputs": [
      {
       "output_type": "stream",
       "stream": "stdout",
       "text": [
        "4\n",
        "[1, 3, 5, 7, 9, 22]\n"
       ]
      }
     ],
     "prompt_number": 42
    },
    {
     "cell_type": "code",
     "collapsed": false,
     "input": [
      "# delete second entry\n",
      "del lerp[1]\n",
      "print lerp"
     ],
     "language": "python",
     "metadata": {},
     "outputs": [
      {
       "output_type": "stream",
       "stream": "stdout",
       "text": [
        "[1, 5, 7, 9, 22]\n"
       ]
      }
     ],
     "prompt_number": 43
    },
    {
     "cell_type": "code",
     "collapsed": false,
     "input": [
      "# slice (just like strings)"
     ],
     "language": "python",
     "metadata": {},
     "outputs": []
    },
    {
     "cell_type": "code",
     "collapsed": false,
     "input": [
      "# add lists"
     ],
     "language": "python",
     "metadata": {},
     "outputs": []
    },
    {
     "cell_type": "code",
     "collapsed": false,
     "input": [
      "# check if something is in a list\n",
      "7 in lerp"
     ],
     "language": "python",
     "metadata": {},
     "outputs": [
      {
       "metadata": {},
       "output_type": "pyout",
       "prompt_number": 44,
       "text": [
        "True"
       ]
      }
     ],
     "prompt_number": 44
    },
    {
     "cell_type": "code",
     "collapsed": false,
     "input": [
      "# check how many elements are in a list\n",
      "len(lerp)"
     ],
     "language": "python",
     "metadata": {},
     "outputs": [
      {
       "metadata": {},
       "output_type": "pyout",
       "prompt_number": 45,
       "text": [
        "5"
       ]
      }
     ],
     "prompt_number": 45
    },
    {
     "cell_type": "markdown",
     "metadata": {},
     "source": [
      "# Tuples\n",
      "\n",
      "Tuples are just like lists, except hwatever you put in there, is permanent, it cannot be changed\n",
      "\n",
      "you might think that's weird, but an example is after you load in patient data, and you do not want any of the information accidentely changed, you can load it into a tuple to ensure what you put in stays the same"
     ]
    },
    {
     "cell_type": "code",
     "collapsed": false,
     "input": [
      "# use a parenthesis instead of square bracket, everything else is the same\n",
      "terp = (2, 6, 8, True, \"hello\")\n",
      "print terp"
     ],
     "language": "python",
     "metadata": {},
     "outputs": [
      {
       "output_type": "stream",
       "stream": "stdout",
       "text": [
        "(2, 6, 8, True, 'hello')\n"
       ]
      }
     ],
     "prompt_number": 20
    },
    {
     "cell_type": "markdown",
     "metadata": {},
     "source": [
      "# Dictionaries\n",
      "\n",
      "Think of dictionaries like those giant fat books that you don't use anymore\n",
      "\n",
      "there is a **key** (the word you want to look up)  \n",
      "and a **value** (the definition of the word, key)\n",
      "\n",
      "this key-value pair is what makes a dictionary"
     ]
    },
    {
     "cell_type": "code",
     "collapsed": false,
     "input": [
      "# start with an empty dictionary, notice dictionaries are enclosed in squiggly brackets\n",
      "derp = {}\n",
      "\n",
      "key = \"daniel chen\"\n",
      "value = 25\n",
      "\n",
      "# you fill dictionaries, just like lists\n",
      "\n",
      "derp = {key:value, \"niels bantilan\": 25}\n",
      "print derp\n",
      "\n",
      "# note dictionaries are not ordered, DO NOT assume any order when working with dictionaries"
     ],
     "language": "python",
     "metadata": {},
     "outputs": [
      {
       "output_type": "stream",
       "stream": "stdout",
       "text": [
        "{'niels bantilan': 25, 'daniel chen': 25}\n"
       ]
      }
     ],
     "prompt_number": 22
    },
    {
     "cell_type": "markdown",
     "metadata": {},
     "source": [
      "So we have an initial dictionary with stuff, how do we 'append' things to it and add more values?"
     ]
    },
    {
     "cell_type": "code",
     "collapsed": false,
     "input": [
      "derp[\"my_new_key\"] = \"my_new_value\"\n",
      "print derp"
     ],
     "language": "python",
     "metadata": {},
     "outputs": [
      {
       "output_type": "stream",
       "stream": "stdout",
       "text": [
        "{'niels bantilan': 25, 'myNewKey': 'myNewValue', 'daniel chen': 25}\n"
       ]
      }
     ],
     "prompt_number": 26
    },
    {
     "cell_type": "code",
     "collapsed": false,
     "input": [
      "derp[\"Vivian Peng\"] = 25\n",
      "print derp"
     ],
     "language": "python",
     "metadata": {},
     "outputs": [
      {
       "output_type": "stream",
       "stream": "stdout",
       "text": [
        "{'niels bantilan': 25, 'myNewKey': 'myNewValue', 'daniel chen': 25, 'Vivian Peng': 25}\n"
       ]
      }
     ],
     "prompt_number": 27
    },
    {
     "cell_type": "code",
     "collapsed": false,
     "input": [
      "# remove entry from dictionary\n",
      "del derp[\"myNewKey\"]\n",
      "print derp"
     ],
     "language": "python",
     "metadata": {},
     "outputs": [
      {
       "output_type": "stream",
       "stream": "stdout",
       "text": [
        "{'niels bantilan': 25, 'daniel chen': 25, 'Vivian Peng': 25}\n"
       ]
      }
     ],
     "prompt_number": 28
    },
    {
     "cell_type": "markdown",
     "metadata": {},
     "source": [
      "Now that we have a dictionary, how do we 'look' keys up?"
     ]
    },
    {
     "cell_type": "code",
     "collapsed": false,
     "input": [
      "# let's look up how old I am\n",
      "print derp[\"daniel chen\"]"
     ],
     "language": "python",
     "metadata": {},
     "outputs": [
      {
       "output_type": "stream",
       "stream": "stdout",
       "text": [
        "25\n"
       ]
      }
     ],
     "prompt_number": 46
    },
    {
     "cell_type": "code",
     "collapsed": false,
     "input": [
      "# there's another way (and more prefered)\n",
      "print derp.get(\"daniel chen\")"
     ],
     "language": "python",
     "metadata": {},
     "outputs": [
      {
       "output_type": "stream",
       "stream": "stdout",
       "text": [
        "25\n"
       ]
      }
     ],
     "prompt_number": 47
    },
    {
     "cell_type": "markdown",
     "metadata": {},
     "source": [
      "same answer, but lets look at the results if we look for something that does not exist"
     ]
    },
    {
     "cell_type": "code",
     "collapsed": false,
     "input": [
      "print derp[\"monty python\"]"
     ],
     "language": "python",
     "metadata": {},
     "outputs": [
      {
       "ename": "KeyError",
       "evalue": "'monty python'",
       "output_type": "pyerr",
       "traceback": [
        "\u001b[1;31m---------------------------------------------------------------------------\u001b[0m\n\u001b[1;31mKeyError\u001b[0m                                  Traceback (most recent call last)",
        "\u001b[1;32m<ipython-input-48-1f0aa3a35665>\u001b[0m in \u001b[0;36m<module>\u001b[1;34m()\u001b[0m\n\u001b[1;32m----> 1\u001b[1;33m \u001b[1;32mprint\u001b[0m \u001b[0mderp\u001b[0m\u001b[1;33m[\u001b[0m\u001b[1;34m\"monty python\"\u001b[0m\u001b[1;33m]\u001b[0m\u001b[1;33m\u001b[0m\u001b[0m\n\u001b[0m",
        "\u001b[1;31mKeyError\u001b[0m: 'monty python'"
       ]
      }
     ],
     "prompt_number": 48
    },
    {
     "cell_type": "code",
     "collapsed": false,
     "input": [
      "print derp.get(\"monty python\")"
     ],
     "language": "python",
     "metadata": {},
     "outputs": [
      {
       "output_type": "stream",
       "stream": "stdout",
       "text": [
        "None\n"
       ]
      }
     ],
     "prompt_number": 49
    },
    {
     "cell_type": "markdown",
     "metadata": {},
     "source": [
      "More dictionary stuff"
     ]
    },
    {
     "cell_type": "code",
     "collapsed": false,
     "input": [
      "# get all keys\n",
      "print derp.keys"
     ],
     "language": "python",
     "metadata": {},
     "outputs": [
      {
       "output_type": "stream",
       "stream": "stdout",
       "text": [
        "<built-in method keys of dict object at 0x2617090>\n"
       ]
      }
     ],
     "prompt_number": 50
    },
    {
     "cell_type": "code",
     "collapsed": false,
     "input": [
      "#get all values\n",
      "print derp.values()"
     ],
     "language": "python",
     "metadata": {},
     "outputs": [
      {
       "output_type": "stream",
       "stream": "stdout",
       "text": [
        "[25, 25, 25]\n"
       ]
      }
     ],
     "prompt_number": 51
    },
    {
     "cell_type": "code",
     "collapsed": false,
     "input": [
      "# get the length (number of key:value entries)\n",
      "print len(derp)"
     ],
     "language": "python",
     "metadata": {},
     "outputs": [
      {
       "output_type": "stream",
       "stream": "stdout",
       "text": [
        "3\n"
       ]
      }
     ],
     "prompt_number": 52
    },
    {
     "cell_type": "code",
     "collapsed": false,
     "input": [
      "# check if a key exists in dictionary:\n",
      "print \"daniel chen\" in derp"
     ],
     "language": "python",
     "metadata": {},
     "outputs": [
      {
       "output_type": "stream",
       "stream": "stdout",
       "text": [
        "True\n"
       ]
      }
     ],
     "prompt_number": 53
    },
    {
     "cell_type": "code",
     "collapsed": false,
     "input": [],
     "language": "python",
     "metadata": {},
     "outputs": []
    }
   ],
   "metadata": {}
  }
 ]
}