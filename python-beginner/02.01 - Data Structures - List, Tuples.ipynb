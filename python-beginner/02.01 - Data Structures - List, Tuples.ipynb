{
 "metadata": {
  "name": ""
 },
 "nbformat": 3,
 "nbformat_minor": 0,
 "worksheets": [
  {
   "cells": [
    {
     "cell_type": "markdown",
     "metadata": {},
     "source": [
      "# Data Structures\n",
      "\n",
      "Cool, now that I can do some basic math, and string manipulation, I want more!\n",
      "\n",
      "A data structure is some conatiner (structure) that holds information (data)"
     ]
    },
    {
     "cell_type": "markdown",
     "metadata": {},
     "source": [
      "# Lists\n",
      "\n",
      "lists are essentially a 'list' of anything you can think of\n",
      "\n",
      "probably one of the most basic, versitile, and useful data structure you can think of\n",
      "\n",
      "they just hold stuff in the order you give it"
     ]
    },
    {
     "cell_type": "code",
     "collapsed": false,
     "input": [
      "#  note, you can't use 'list' as a variable, it is a python protected phrase\n",
      "my_list = []\n",
      "my_int_list = [1, 3, 5, 7, 10, 11]\n",
      "\n",
      "print my_list\n",
      "print my_int_list"
     ],
     "language": "python",
     "metadata": {},
     "outputs": []
    },
    {
     "cell_type": "markdown",
     "metadata": {},
     "source": [
      "Lists do not have to contain the same type"
     ]
    },
    {
     "cell_type": "code",
     "collapsed": false,
     "input": [
      "my_mixed_list = [True, \"i got\", 3 + 1, \"equals\", 4, \"goats for christmas\"]\n",
      "print my_mixed_list"
     ],
     "language": "python",
     "metadata": {},
     "outputs": []
    },
    {
     "cell_type": "markdown",
     "metadata": {},
     "source": [
      "you can even store lists into variables!"
     ]
    },
    {
     "cell_type": "code",
     "collapsed": false,
     "input": [
      "my_mixed_list = [True, \"i got\", 3 + 1, \"equals\", 4, \"goats for christmas\"]\n",
      "print \"my_mixed_list = \", my_mixed_list\n",
      "\n",
      "x = my_mixed_list\n",
      "print \"x = \", x"
     ],
     "language": "python",
     "metadata": {},
     "outputs": []
    },
    {
     "cell_type": "markdown",
     "metadata": {},
     "source": [
      "## It's all fun and games until you need to get something out of a list\n",
      "\n",
      "I have everything stored in a list!\n",
      "\n",
      "But I need something out of it, what good is a list if I can't get something out?"
     ]
    },
    {
     "cell_type": "code",
     "collapsed": false,
     "input": [
      "# consider this: I have a list of data:\n",
      "patient_data = [\"Daniel\", \"Chen\", 25, \"male\"]\n",
      "\n",
      "print patient_data"
     ],
     "language": "python",
     "metadata": {},
     "outputs": []
    },
    {
     "cell_type": "markdown",
     "metadata": {},
     "source": [
      "How would I, for example, get only the first name? or the age?\n",
      "\n",
      "First there are a few things to mention about indexing in python\n",
      "\n",
      "- it is zero indexed\n",
      "    - this means that the first item in in list is position 0 (not 1)"
     ]
    },
    {
     "cell_type": "markdown",
     "metadata": {},
     "source": [
      "| Index | 0      | 1    | 2  | 3    |\n",
      "|-------|--------|------|----|------|\n",
      "| Value | Daniel | Chen | 25 | male |"
     ]
    },
    {
     "cell_type": "code",
     "collapsed": false,
     "input": [
      "patient_data = [\"Daniel\", \"Chen\", 25, \"male\"]\n",
      "\n",
      "# extract my first name\n",
      "print \"fname = \", patient_data[0]"
     ],
     "language": "python",
     "metadata": {},
     "outputs": []
    },
    {
     "cell_type": "code",
     "collapsed": false,
     "input": [
      "# extract the age\n",
      "patient_data[2]"
     ],
     "language": "python",
     "metadata": {},
     "outputs": []
    },
    {
     "cell_type": "markdown",
     "metadata": {},
     "source": [
      "Lists are what we call an 'iterable', that is something that you can just go one-by-one through\n",
      "\n",
      "Remember strings? They are also iterables"
     ]
    },
    {
     "cell_type": "markdown",
     "metadata": {},
     "source": [
      "## Getting parts from a string"
     ]
    },
    {
     "cell_type": "code",
     "collapsed": false,
     "input": [
      "string = \"Coconut\"\n",
      "\n",
      "# get the first letter\n",
      "string[0]\n",
      "\n",
      "# get the second letter\n",
      "string[1]\n",
      "\n",
      "# get the first letter from the end\n",
      "string[-1]"
     ],
     "language": "python",
     "metadata": {},
     "outputs": []
    },
    {
     "cell_type": "markdown",
     "metadata": {},
     "source": [
      "## Slicing\n",
      "\n",
      "What about when you want just a certain part of a string?\n",
      "\n",
      "lets bulid off the census ID string we had earlier"
     ]
    },
    {
     "cell_type": "code",
     "collapsed": false,
     "input": [
      "# year 2014; CT 255; ID 1\n",
      "censusID = \"2014-255-001\"\n",
      "\n",
      "# what if we just want the year?\n",
      "# we can slice!\n",
      "censusID[0:4]\n",
      "\n",
      "# since it is from the beginning we can also do the following\n",
      "censusID[:4]\n",
      "\n",
      "# both results will return a STRING 2014"
     ],
     "language": "python",
     "metadata": {},
     "outputs": []
    },
    {
     "cell_type": "code",
     "collapsed": false,
     "input": [
      "censusID[5:8]\n",
      "\n",
      "censusID[9:]"
     ],
     "language": "python",
     "metadata": {},
     "outputs": []
    },
    {
     "cell_type": "markdown",
     "metadata": {},
     "source": [
      "# Excercise\n",
      "\n",
      "Introduce yourself to 1 neighbor, get their first and last name.\n",
      "\n",
      "- Assign the varriable x to equal \"My name is **your first and last name**\"\n",
      "- Assign the variable y to equal \"My neighbor's name is **your neighbor's first and last name**\"\n",
      "\n",
      "Write an inequality that extracts out the first names, and test to see whether or not they are equal"
     ]
    },
    {
     "cell_type": "code",
     "collapsed": false,
     "input": [
      "x = \"My name is Ben DeCoudres\"\n",
      "y = \"my neighbor's name is Michelle Hong\"\n",
      "\n",
      "print x[-13:-10] == y[-13:-5]\n",
      "\n",
      "'''\n",
      "print x[-13:-1]\n",
      "print y[-13:-5]\n",
      "'''\n"
     ],
     "language": "python",
     "metadata": {},
     "outputs": []
    },
    {
     "cell_type": "markdown",
     "metadata": {},
     "source": [
      "# More lists\n",
      "\n",
      "What else can you do with lists?"
     ]
    },
    {
     "cell_type": "code",
     "collapsed": false,
     "input": [
      "# some list\n",
      "\n",
      "lerp = [1, 3, 5, 7, 9, 22]\n",
      "\n",
      "# append\n",
      "lerp.append(4)\n",
      "print lerp"
     ],
     "language": "python",
     "metadata": {},
     "outputs": []
    },
    {
     "cell_type": "code",
     "collapsed": false,
     "input": [
      "# pop (get the last value, and also remove from list)\n",
      "print lerp.pop()\n",
      "print lerp"
     ],
     "language": "python",
     "metadata": {},
     "outputs": []
    },
    {
     "cell_type": "code",
     "collapsed": false,
     "input": [
      "# delete second entry\n",
      "del lerp[1]\n",
      "print lerp"
     ],
     "language": "python",
     "metadata": {},
     "outputs": []
    },
    {
     "cell_type": "code",
     "collapsed": false,
     "input": [
      "# slice (just like strings)"
     ],
     "language": "python",
     "metadata": {},
     "outputs": []
    },
    {
     "cell_type": "code",
     "collapsed": false,
     "input": [
      "# add lists"
     ],
     "language": "python",
     "metadata": {},
     "outputs": []
    },
    {
     "cell_type": "code",
     "collapsed": false,
     "input": [
      "# check if something is in a list\n",
      "7 in lerp"
     ],
     "language": "python",
     "metadata": {},
     "outputs": []
    },
    {
     "cell_type": "code",
     "collapsed": false,
     "input": [
      "# check how many elements are in a list\n",
      "len(lerp)"
     ],
     "language": "python",
     "metadata": {},
     "outputs": []
    },
    {
     "cell_type": "markdown",
     "metadata": {},
     "source": [
      "# Tuples\n",
      "\n",
      "Tuples are just like lists, except hwatever you put in there, is permanent, it cannot be changed\n",
      "\n",
      "you might think that's weird, but an example is after you load in patient data, and you do not want any of the information accidentely changed, you can load it into a tuple to ensure what you put in stays the same"
     ]
    },
    {
     "cell_type": "code",
     "collapsed": false,
     "input": [
      "# use a parenthesis instead of square bracket, everything else is the same\n",
      "terp = (2, 6, 8, True, \"hello\")\n",
      "print terp"
     ],
     "language": "python",
     "metadata": {},
     "outputs": []
    }
   ],
   "metadata": {}
  }
 ]
}