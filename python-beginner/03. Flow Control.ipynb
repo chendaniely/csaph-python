{
 "metadata": {
  "name": ""
 },
 "nbformat": 3,
 "nbformat_minor": 0,
 "worksheets": [
  {
   "cells": [
    {
     "cell_type": "markdown",
     "metadata": {},
     "source": [
      "#  Flow control\n",
      "\n",
      "##  I want to make a bacon sandwhich.\n",
      "\n",
      "How would I make a bacon sandwhich?\n",
      "\n",
      "What if I don't like the end pieces?\n",
      "\n",
      "What if I started a sandwhich factory and need to make thousands of them?\n",
      "\n",
      "what if the only people who like end pieces like eating their sandwhiches with double end pieces!??"
     ]
    },
    {
     "cell_type": "markdown",
     "metadata": {},
     "source": [
      "Computers are made to take a series of instructions and do something useful (or not).  These **algorithims** are what make computers so useful!  They allow computers to do what they do best, follow instructions and do them over and over again.\n",
      "\n",
      "What happens if a decision has to be made?"
     ]
    },
    {
     "cell_type": "markdown",
     "metadata": {},
     "source": [
      "## The if/else statement - conditional\n",
      "\n",
      "- If the piece of bread is an end piece, skip it\n",
      "\n",
      "What's nice about python is that a lot of the language can almost be read like english.\n",
      "\n",
      "the only 'syntax' you have to deal with is tabs and a semi-colon\n",
      "\n",
      "This is what an if statement looks like in python (in the general form)\n",
      "\n",
      "    if (some boolean value):\n",
      "        do some stuff if the boolean is true\n",
      "        \n",
      "[more on if elif else](http://www.tutorialspoint.com/python/python_if_else.htm)"
     ]
    },
    {
     "cell_type": "code",
     "collapsed": false,
     "input": [
      "if (4 > 3):\n",
      "    print \":D\""
     ],
     "language": "python",
     "metadata": {},
     "outputs": [
      {
       "output_type": "stream",
       "stream": "stdout",
       "text": [
        ":D\n"
       ]
      }
     ],
     "prompt_number": 1
    },
    {
     "cell_type": "markdown",
     "metadata": {},
     "source": [
      "in our bacon sandwhich example:\n",
      "\n",
      "    if (the slice of bread is an end piece):\n",
      "        skip it\n",
      "    else:\n",
      "        use bread to make sandwhich"
     ]
    },
    {
     "cell_type": "code",
     "collapsed": false,
     "input": [
      "list_of_names = [\"daniel\", \"niels\", \"vivian\", \"thomas\"]\n",
      "\n",
      "# how do i check if the fist name in the list is daniel?\n",
      "\n",
      "# how do i check if a name is in my list? if it is, print it!\n",
      "# if the name isn't add it to the list"
     ],
     "language": "python",
     "metadata": {},
     "outputs": [
      {
       "output_type": "stream",
       "stream": "stdout",
       "text": [
        "True\n"
       ]
      }
     ],
     "prompt_number": 2
    },
    {
     "cell_type": "markdown",
     "metadata": {},
     "source": [
      "# Loops\n",
      "\n",
      "## the for loop\n",
      "\n",
      "computers are great at doing something over and over again, one way we can tell a computer to iterate through something is using a 'for' loop\n",
      "\n",
      "the for loop looks like this:\n",
      "\n",
      "    for some_variable in some_iterable:\n",
      "        do something\n",
      "\n",
      "so, if we have an iterable (like a list), we can do something with each element in that list"
     ]
    },
    {
     "cell_type": "code",
     "collapsed": false,
     "input": [
      "list_of_names = [\"daniel\", \"niels\", \"vivian\", \"thomas\"]\n",
      "\n",
      "for name in list_of_names:\n",
      "    print name"
     ],
     "language": "python",
     "metadata": {},
     "outputs": [
      {
       "output_type": "stream",
       "stream": "stdout",
       "text": [
        "daniel\n",
        "niels\n",
        "vivian\n",
        "thomas\n"
       ]
      }
     ],
     "prompt_number": 3
    },
    {
     "cell_type": "markdown",
     "metadata": {},
     "source": [
      "isn't that cool? now we don't have to change an index to get each one.\n",
      "\n",
      "This brings us to a very important point:\n"
     ]
    }
   ],
   "metadata": {}
  }
 ]
}